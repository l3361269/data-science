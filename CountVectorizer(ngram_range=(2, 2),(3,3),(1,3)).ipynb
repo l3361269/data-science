{
 "cells": [
  {
   "cell_type": "code",
   "execution_count": 1,
   "metadata": {},
   "outputs": [],
   "source": [
    "%matplotlib inline\n",
    "import matplotlib.pyplot as plt\n",
    "import numpy as np\n",
    "import pandas as pd"
   ]
  },
  {
   "cell_type": "markdown",
   "metadata": {},
   "source": [
    "----load the training data"
   ]
  },
  {
   "cell_type": "code",
   "execution_count": 3,
   "metadata": {},
   "outputs": [],
   "source": [
    "df_train=pd.read_csv(\"training_data.csv\")\n",
    "text_train=df_train['text']"
   ]
  },
  {
   "cell_type": "code",
   "execution_count": 4,
   "metadata": {},
   "outputs": [],
   "source": [
    "star_train=df_train.stars"
   ]
  },
  {
   "cell_type": "code",
   "execution_count": 5,
   "metadata": {},
   "outputs": [],
   "source": [
    "df_test=pd.read_csv(\"test_data.csv\")\n",
    "text_test=df_test.text"
   ]
  },
  {
   "cell_type": "code",
   "execution_count": 6,
   "metadata": {},
   "outputs": [],
   "source": [
    "df_sub=pd.read_csv(\"sample_submission.csv\",names=np.array(['id','stars']))\n",
    "star_test=df_sub.stars"
   ]
  },
  {
   "cell_type": "markdown",
   "metadata": {},
   "source": [
    "----CountVectorizer(ngram_range=(2, 2))"
   ]
  },
  {
   "cell_type": "code",
   "execution_count": 7,
   "metadata": {},
   "outputs": [],
   "source": [
    "from sklearn.feature_extraction.text import CountVectorizer"
   ]
  },
  {
   "cell_type": "code",
   "execution_count": 8,
   "metadata": {},
   "outputs": [],
   "source": [
    "vectorizer = CountVectorizer(ngram_range=(2, 2))\n",
    "vectorizer.fit(text_train)\n",
    "cv2_train=vectorizer.transform(text_train)\n",
    "cv2_test=vectorizer.transform(text_test)"
   ]
  },
  {
   "cell_type": "markdown",
   "metadata": {},
   "source": [
    "----LogisticRegression"
   ]
  },
  {
   "cell_type": "code",
   "execution_count": 9,
   "metadata": {},
   "outputs": [
    {
     "data": {
      "text/plain": [
       "LogisticRegression(C=1.0, class_weight=None, dual=False, fit_intercept=True,\n",
       "          intercept_scaling=1, max_iter=100, multi_class='ovr', n_jobs=1,\n",
       "          penalty='l2', random_state=None, solver='liblinear', tol=0.0001,\n",
       "          verbose=0, warm_start=False)"
      ]
     },
     "execution_count": 9,
     "metadata": {},
     "output_type": "execute_result"
    }
   ],
   "source": [
    "from sklearn.linear_model import LogisticRegression\n",
    "\n",
    "logr=LogisticRegression()\n",
    "logr.fit(cv2_train,star_train)"
   ]
  },
  {
   "cell_type": "code",
   "execution_count": 11,
   "metadata": {},
   "outputs": [
    {
     "data": {
      "text/plain": [
       "0.2031952071892162"
      ]
     },
     "execution_count": 11,
     "metadata": {},
     "output_type": "execute_result"
    }
   ],
   "source": [
    "logr.score(cv2_test,star_test)"
   ]
  },
  {
   "cell_type": "code",
   "execution_count": 12,
   "metadata": {},
   "outputs": [],
   "source": [
    "from sklearn.linear_model import LogisticRegression\n",
    "\n",
    "logr=LogisticRegression()\n",
    "\n",
    "def logreg(logr,train,test,star_train):\n",
    "    \n",
    "    star_train_1=np.zeros((len(star_train)))\n",
    "    star_train_2=np.zeros((len(star_train)))\n",
    "    star_train_3=np.zeros((len(star_train)))\n",
    "    star_train_4=np.zeros((len(star_train)))\n",
    "    star_train_5=np.zeros((len(star_train)))\n",
    "    \n",
    "    star_train_1[star_train==1]=1\n",
    "    star_train_2[star_train==2]=1\n",
    "    star_train_3[star_train==3]=1\n",
    "    star_train_4[star_train==4]=1\n",
    "    star_train_5[star_train==5]=1\n",
    "\n",
    "    \"\"\"for i in range(len(star_train)):\n",
    "        if star_train[i]==1:\n",
    "            star_train_1[i]=1\n",
    "        elif star_train[i]==2:\n",
    "            star_train_2[i]=1\n",
    "        elif star_train[i]==3:\n",
    "            star_train_3[i]=1\n",
    "        elif star_train[i]==4:\n",
    "            star_train_4[i]=1\n",
    "        elif star_train[i]==5:\n",
    "            star_train_5[i]=1\"\"\"\n",
    "    \n",
    "    logr.fit(train,star_train_1)\n",
    "    star_pred_1=logr.predict(test)\n",
    "    \n",
    "    logr.fit(train,star_train_2)\n",
    "    star_pred_2=logr.predict(test)\n",
    "    \n",
    "    logr.fit(train,star_train_3)\n",
    "    star_pred_3=logr.predict(test)\n",
    "    \n",
    "    logr.fit(train,star_train_4)\n",
    "    star_pred_4=logr.predict(test)\n",
    "    \n",
    "    logr.fit(train,star_train_5)\n",
    "    star_pred_5=logr.predict(test)\n",
    "    \n",
    "    star_pred=np.zeros((len(star_pred_1)))\n",
    "    star_pred[star_pred_1==1]=1\n",
    "    star_pred[star_pred_2==1]=2\n",
    "    star_pred[star_pred_3==1]=3\n",
    "    star_pred[star_pred_4==1]=4\n",
    "    star_pred[star_pred_5==1]=5\n",
    "    \n",
    "    return star_pred    \n"
   ]
  },
  {
   "cell_type": "code",
   "execution_count": 13,
   "metadata": {},
   "outputs": [],
   "source": [
    "star_pred=logreg(logr, cv2_train, cv2_test, star_train)"
   ]
  },
  {
   "cell_type": "code",
   "execution_count": 14,
   "metadata": {},
   "outputs": [
    {
     "data": {
      "text/plain": [
       "0.10683974038941588"
      ]
     },
     "execution_count": 14,
     "metadata": {},
     "output_type": "execute_result"
    }
   ],
   "source": [
    "np.mean(star_pred==star_test)"
   ]
  },
  {
   "cell_type": "markdown",
   "metadata": {},
   "source": [
    "----KNeighborsClassifier"
   ]
  },
  {
   "cell_type": "code",
   "execution_count": 15,
   "metadata": {},
   "outputs": [],
   "source": [
    "from sklearn.neighbors import KNeighborsClassifier\n",
    "KNC = KNeighborsClassifier()"
   ]
  },
  {
   "cell_type": "code",
   "execution_count": 16,
   "metadata": {},
   "outputs": [],
   "source": [
    "rng = np.random.RandomState(0)\n",
    "\n",
    "permutation = rng.permutation(len(star_train))\n",
    "cv2_train, star_train = cv2_train[permutation], star_train[permutation]"
   ]
  },
  {
   "cell_type": "code",
   "execution_count": 17,
   "metadata": {},
   "outputs": [
    {
     "name": "stdout",
     "output_type": "stream",
     "text": [
      "[0.17135358 0.33195799 0.33558559]\n",
      "0.27963238529511986\n"
     ]
    }
   ],
   "source": [
    "from sklearn.model_selection import cross_val_score\n",
    "scores = cross_val_score(KNC, cv2_train, star_train)\n",
    "print(scores)\n",
    "print(np.mean(scores))"
   ]
  },
  {
   "cell_type": "code",
   "execution_count": 22,
   "metadata": {},
   "outputs": [],
   "source": [
    "knc=KNeighborsClassifier(n_neighbors=10).fit(cv2_train,star_train)\n",
    "star_pred_cv2K=knc.predict(cv2_test)"
   ]
  },
  {
   "cell_type": "code",
   "execution_count": 23,
   "metadata": {},
   "outputs": [
    {
     "data": {
      "text/plain": [
       "0.20868696954568147"
      ]
     },
     "execution_count": 23,
     "metadata": {},
     "output_type": "execute_result"
    }
   ],
   "source": [
    "np.mean(star_pred_cv2K==star_test)"
   ]
  },
  {
   "cell_type": "code",
   "execution_count": 24,
   "metadata": {},
   "outputs": [
    {
     "data": {
      "text/plain": [
       "<matplotlib.legend.Legend at 0x1787a43f828>"
      ]
     },
     "execution_count": 24,
     "metadata": {},
     "output_type": "execute_result"
    },
    {
     "data": {
      "image/png": "[encoded data removed]",
      "text/plain": [
       "<matplotlib.figure.Figure at 0x17879fc3320>"
      ]
     },
     "metadata": {},
     "output_type": "display_data"
    }
   ],
   "source": [
    "from sklearn.model_selection import StratifiedKFold\n",
    "cv = StratifiedKFold(n_splits=5)\n",
    "\n",
    "from sklearn.model_selection import validation_curve\n",
    "n_neighbors=[1,3,5,10,20,50]\n",
    "train_errors,validation_errors=validation_curve(KNC,cv2_train,star_train,param_name='n_neighbors',param_range=n_neighbors,cv=cv)\n",
    "\n",
    "plt.plot(n_neighbors,train_errors.mean(axis=1),label='training error')\n",
    "plt.plot(n_neighbors,validation_errors.mean(axis=1),label='validation error')\n",
    "plt.legend(loc='best')"
   ]
  },
  {
   "cell_type": "code",
   "execution_count": 25,
   "metadata": {},
   "outputs": [
    {
     "data": {
      "text/plain": [
       "0.20968547179231153"
      ]
     },
     "execution_count": 25,
     "metadata": {},
     "output_type": "execute_result"
    }
   ],
   "source": [
    "knc=KNeighborsClassifier(n_neighbors=20).fit(cv2_train,star_train)\n",
    "star_pred_cv2K=knc.predict(cv2_test)\n",
    "\n",
    "np.mean(star_pred_cv2K==star_test)"
   ]
  },
  {
   "cell_type": "markdown",
   "metadata": {},
   "source": [
    "----LinearRegression"
   ]
  },
  {
   "cell_type": "code",
   "execution_count": 26,
   "metadata": {},
   "outputs": [],
   "source": [
    "from sklearn.linear_model import LinearRegression\n",
    "LR=LinearRegression()"
   ]
  },
  {
   "cell_type": "code",
   "execution_count": 27,
   "metadata": {},
   "outputs": [
    {
     "data": {
      "text/plain": [
       "-1.0839954006234467"
      ]
     },
     "execution_count": 27,
     "metadata": {},
     "output_type": "execute_result"
    }
   ],
   "source": [
    "LR.fit(cv2_train,star_train)\n",
    "star_pred_LR=LR.predict(cv2_test)\n",
    "\n",
    "LR.score(cv2_test,star_test)"
   ]
  },
  {
   "cell_type": "markdown",
   "metadata": {},
   "source": [
    "----KNeighborsRegressor()"
   ]
  },
  {
   "cell_type": "code",
   "execution_count": 28,
   "metadata": {},
   "outputs": [],
   "source": [
    "from sklearn.neighbors import KNeighborsRegressor\n",
    "KNR=KNeighborsRegressor()"
   ]
  },
  {
   "cell_type": "code",
   "execution_count": 29,
   "metadata": {},
   "outputs": [
    {
     "data": {
      "text/plain": [
       "-0.8457075652986392"
      ]
     },
     "execution_count": 29,
     "metadata": {},
     "output_type": "execute_result"
    }
   ],
   "source": [
    "KNR.fit(cv2_train,star_train)\n",
    "star_pred_KNR=KNR.predict(cv2_test)\n",
    "\n",
    "KNR.score(cv2_test,star_test)"
   ]
  },
  {
   "cell_type": "code",
   "execution_count": 31,
   "metadata": {},
   "outputs": [
    {
     "data": {
      "text/plain": [
       "0.20505506214135671"
      ]
     },
     "execution_count": 31,
     "metadata": {},
     "output_type": "execute_result"
    }
   ],
   "source": [
    "KNR.score(cv2_train,star_train)"
   ]
  },
  {
   "cell_type": "code",
   "execution_count": 30,
   "metadata": {},
   "outputs": [
    {
     "name": "stdout",
     "output_type": "stream",
     "text": [
      "1 -1.7960547509111473\n",
      "3 -1.7447175117497955\n",
      "5 -0.8457075652986392\n",
      "10 -0.742731389456694\n",
      "20 -0.5739875874644889\n",
      "50 -0.6480669802698678\n"
     ]
    }
   ],
   "source": [
    "n_neighbors=[1,3,5,10,20,50]\n",
    "\n",
    "for n in n_neighbors:\n",
    "    knr=KNeighborsRegressor(n_neighbors=n)\n",
    "    knr.fit(cv2_train,star_train)\n",
    "    print(n,knr.score(cv2_test,star_test))"
   ]
  },
  {
   "cell_type": "markdown",
   "metadata": {},
   "source": [
    "----svm"
   ]
  },
  {
   "cell_type": "code",
   "execution_count": 32,
   "metadata": {},
   "outputs": [],
   "source": [
    "from sklearn import svm\n",
    "clf=svm.SVC() #default: kernel='rbf'"
   ]
  },
  {
   "cell_type": "code",
   "execution_count": 34,
   "metadata": {},
   "outputs": [
    {
     "data": {
      "text/plain": [
       "0.20519221168247628"
      ]
     },
     "execution_count": 34,
     "metadata": {},
     "output_type": "execute_result"
    }
   ],
   "source": [
    "clf.fit(cv2_train,star_train)\n",
    "clf.score(cv2_test,star_test)"
   ]
  },
  {
   "cell_type": "code",
   "execution_count": 35,
   "metadata": {},
   "outputs": [
    {
     "data": {
      "text/plain": [
       "0.1982026959560659"
      ]
     },
     "execution_count": 35,
     "metadata": {},
     "output_type": "execute_result"
    }
   ],
   "source": [
    "clf_l=svm.SVC(kernel='linear')\n",
    "clf_l.fit(cv2_train,star_train)\n",
    "clf_l.score(cv2_test,star_test)"
   ]
  },
  {
   "cell_type": "code",
   "execution_count": 47,
   "metadata": {
    "scrolled": true
   },
   "outputs": [
    {
     "name": "stdout",
     "output_type": "stream",
     "text": [
      "Fitting 3 folds for each of 20 candidates, totalling 60 fits\n",
      "[CV] C=0.001, gamma=0.001 ............................................\n",
      "[CV] . C=0.001, gamma=0.001, score=-0.07032780266709282, total=  43.1s\n",
      "[CV] C=0.001, gamma=0.001 ............................................\n"
     ]
    },
    {
     "name": "stderr",
     "output_type": "stream",
     "text": [
      "[Parallel(n_jobs=1)]: Done   1 out of   1 | elapsed:  1.2min remaining:    0.0s\n"
     ]
    },
    {
     "name": "stdout",
     "output_type": "stream",
     "text": [
      "[CV] . C=0.001, gamma=0.001, score=-0.06534800542695662, total=  44.5s\n",
      "[CV] C=0.001, gamma=0.001 ............................................\n"
     ]
    },
    {
     "name": "stderr",
     "output_type": "stream",
     "text": [
      "[Parallel(n_jobs=1)]: Done   2 out of   2 | elapsed:  2.4min remaining:    0.0s\n"
     ]
    },
    {
     "name": "stdout",
     "output_type": "stream",
     "text": [
      "[CV] . C=0.001, gamma=0.001, score=-0.06564843622534111, total=  42.5s\n",
      "[CV] C=0.001, gamma=0.01 .............................................\n",
      "[CV] .. C=0.001, gamma=0.01, score=-0.05379700148255284, total=  42.8s\n",
      "[CV] C=0.001, gamma=0.01 .............................................\n",
      "[CV] .. C=0.001, gamma=0.01, score=-0.04977716518077191, total=  42.8s\n",
      "[CV] C=0.001, gamma=0.01 .............................................\n",
      "[CV] .. C=0.001, gamma=0.01, score=-0.04778191719727376, total=  42.4s\n",
      "[CV] C=0.001, gamma=0.1 ..............................................\n",
      "[CV] ... C=0.001, gamma=0.1, score=-0.07391664200561365, total=  43.0s\n",
      "[CV] C=0.001, gamma=0.1 ..............................................\n",
      "[CV] ... C=0.001, gamma=0.1, score=-0.06885397150141892, total=  43.2s\n",
      "[CV] C=0.001, gamma=0.1 ..............................................\n",
      "[CV] ... C=0.001, gamma=0.1, score=-0.06874074941431862, total=  42.2s\n",
      "[CV] C=0.001, gamma=1 ................................................\n",
      "[CV] ..... C=0.001, gamma=1, score=-0.07396316517735846, total=  43.3s\n",
      "[CV] C=0.001, gamma=1 ................................................\n",
      "[CV] ..... C=0.001, gamma=1, score=-0.06887158874110133, total=  43.6s\n",
      "[CV] C=0.001, gamma=1 ................................................\n",
      "[CV] ..... C=0.001, gamma=1, score=-0.06917725962067323, total=  43.0s\n",
      "[CV] C=0.01, gamma=0.001 .............................................\n",
      "[CV] . C=0.01, gamma=0.001, score=-0.045458342036789556, total=  43.1s\n",
      "[CV] C=0.01, gamma=0.001 .............................................\n",
      "[CV] .. C=0.01, gamma=0.001, score=-0.04148750588787542, total=  43.4s\n",
      "[CV] C=0.01, gamma=0.001 .............................................\n",
      "[CV] .. C=0.01, gamma=0.001, score=-0.04053210520254402, total=  43.0s\n",
      "[CV] C=0.01, gamma=0.01 ..............................................\n",
      "[CV] .. C=0.01, gamma=0.01, score=-0.021659945736872466, total=  45.9s\n",
      "[CV] C=0.01, gamma=0.01 ..............................................\n",
      "[CV] ... C=0.01, gamma=0.01, score=-0.01660339844920577, total=  45.8s\n",
      "[CV] C=0.01, gamma=0.01 ..............................................\n",
      "[CV] ... C=0.01, gamma=0.01, score=-0.01758676678165294, total=  45.6s\n",
      "[CV] C=0.01, gamma=0.1 ...............................................\n",
      "[CV] .... C=0.01, gamma=0.1, score=-0.07374752415163631, total=  43.7s\n",
      "[CV] C=0.01, gamma=0.1 ...............................................\n",
      "[CV] .... C=0.01, gamma=0.1, score=-0.06872765940320424, total=  44.4s\n",
      "[CV] C=0.01, gamma=0.1 ...............................................\n",
      "[CV] .... C=0.01, gamma=0.1, score=-0.06611100479289478, total=  42.5s\n",
      "[CV] C=0.01, gamma=1 .................................................\n",
      "[CV] ...... C=0.01, gamma=1, score=-0.07403521162160076, total= 1.1min\n",
      "[CV] C=0.01, gamma=1 .................................................\n",
      "[CV] ...... C=0.01, gamma=1, score=-0.06890810685298354, total= 1.1min\n",
      "[CV] C=0.01, gamma=1 .................................................\n",
      "[CV] ...... C=0.01, gamma=1, score=-0.06923084950868863, total= 1.1min\n",
      "[CV] C=0.1, gamma=0.001 ..............................................\n",
      "[CV] ... C=0.1, gamma=0.001, score=0.004780554907972467, total=  49.3s\n",
      "[CV] C=0.1, gamma=0.001 ..............................................\n",
      "[CV] ... C=0.1, gamma=0.001, score=0.007193495122048699, total=  49.3s\n",
      "[CV] C=0.1, gamma=0.001 ..............................................\n",
      "[CV] ... C=0.1, gamma=0.001, score=0.009005477767032533, total=  48.8s\n",
      "[CV] C=0.1, gamma=0.01 ...............................................\n",
      "[CV] .... C=0.1, gamma=0.01, score=0.014724977845982146, total=  52.7s\n",
      "[CV] C=0.1, gamma=0.01 ...............................................\n",
      "[CV] .... C=0.1, gamma=0.01, score=0.019827197337902835, total=  52.2s\n",
      "[CV] C=0.1, gamma=0.01 ...............................................\n",
      "[CV] .... C=0.1, gamma=0.01, score=0.018501983785904508, total=  52.1s\n",
      "[CV] C=0.1, gamma=0.1 ................................................\n",
      "[CV] ..... C=0.1, gamma=0.1, score=-0.07384667239059128, total=  48.6s\n",
      "[CV] C=0.1, gamma=0.1 ................................................\n",
      "[CV] ..... C=0.1, gamma=0.1, score=-0.06834353586398301, total=  52.5s\n",
      "[CV] C=0.1, gamma=0.1 ................................................\n",
      "[CV] ..... C=0.1, gamma=0.1, score=-0.04501334415322278, total=  43.3s\n",
      "[CV] C=0.1, gamma=1 ..................................................\n",
      "[CV] ....... C=0.1, gamma=1, score=-0.07693407497512882, total= 1.1min\n",
      "[CV] C=0.1, gamma=1 ..................................................\n",
      "[CV] ....... C=0.1, gamma=1, score=-0.07091440493912726, total= 1.1min\n",
      "[CV] C=0.1, gamma=1 ..................................................\n",
      "[CV] ....... C=0.1, gamma=1, score=-0.07111325002521829, total= 1.1min\n",
      "[CV] C=1, gamma=0.001 ................................................\n",
      "[CV] ...... C=1, gamma=0.001, score=0.18056153601665703, total= 1.1min\n",
      "[CV] C=1, gamma=0.001 ................................................\n",
      "[CV] ...... C=1, gamma=0.001, score=0.18247027916003866, total= 1.2min\n",
      "[CV] C=1, gamma=0.001 ................................................\n",
      "[CV] ...... C=1, gamma=0.001, score=0.18302446224642455, total= 1.2min\n",
      "[CV] C=1, gamma=0.01 .................................................\n",
      "[CV] ........ C=1, gamma=0.01, score=0.1560335346150732, total= 1.3min\n",
      "[CV] C=1, gamma=0.01 .................................................\n",
      "[CV] ....... C=1, gamma=0.01, score=0.16270923825438222, total= 1.0min\n",
      "[CV] C=1, gamma=0.01 .................................................\n",
      "[CV] ....... C=1, gamma=0.01, score=0.15830025347383014, total= 1.0min\n",
      "[CV] C=1, gamma=0.1 ..................................................\n",
      "[CV] ....... C=1, gamma=0.1, score=-0.02641831563931807, total=  43.3s\n",
      "[CV] C=1, gamma=0.1 ..................................................\n",
      "[CV] ...... C=1, gamma=0.1, score=-0.018234420757196945, total=  43.8s\n",
      "[CV] C=1, gamma=0.1 ..................................................\n",
      "[CV] ....... C=1, gamma=0.1, score=-0.02576298273690769, total=  45.4s\n",
      "[CV] C=1, gamma=1 ....................................................\n",
      "[CV] ......... C=1, gamma=1, score=-0.03757901138200492, total=  45.2s\n",
      "[CV] C=1, gamma=1 ....................................................\n",
      "[CV] ......... C=1, gamma=1, score=-0.03156667675959968, total=  50.1s\n",
      "[CV] C=1, gamma=1 ....................................................\n",
      "[CV] ........ C=1, gamma=1, score=-0.031900686789559485, total=  44.5s\n",
      "[CV] C=10, gamma=0.001 ...............................................\n",
      "[CV] ..... C=10, gamma=0.001, score=0.35474491890134996, total= 1.0min\n",
      "[CV] C=10, gamma=0.001 ...............................................\n",
      "[CV] ...... C=10, gamma=0.001, score=0.3420253172688018, total= 1.0min\n",
      "[CV] C=10, gamma=0.001 ...............................................\n",
      "[CV] ...... C=10, gamma=0.001, score=0.3513708280239677, total= 1.0min\n",
      "[CV] C=10, gamma=0.01 ................................................\n",
      "[CV] ...... C=10, gamma=0.01, score=0.23412187160309028, total= 1.1min\n",
      "[CV] C=10, gamma=0.01 ................................................\n",
      "[CV] ...... C=10, gamma=0.01, score=0.25292812915834195, total= 1.0min\n",
      "[CV] C=10, gamma=0.01 ................................................\n",
      "[CV] ...... C=10, gamma=0.01, score=0.23376074286442894, total= 1.0min\n",
      "[CV] C=10, gamma=0.1 .................................................\n",
      "[CV] ...... C=10, gamma=0.1, score=0.011250413379353952, total= 1.1min\n",
      "[CV] C=10, gamma=0.1 .................................................\n",
      "[CV] ....... C=10, gamma=0.1, score=0.01535549786580881, total= 1.1min\n",
      "[CV] C=10, gamma=0.1 .................................................\n",
      "[CV] ...... C=10, gamma=0.1, score=0.006059621521633196, total= 1.1min\n",
      "[CV] C=10, gamma=1 ...................................................\n",
      "[CV] ...... C=10, gamma=1, score=-0.0008911549652392825, total= 1.4min\n",
      "[CV] C=10, gamma=1 ...................................................\n",
      "[CV] ...... C=10, gamma=1, score=-0.0001691243018573374, total= 1.2min\n",
      "[CV] C=10, gamma=1 ...................................................\n",
      "[CV] ........ C=10, gamma=1, score=-0.00113489289634372, total= 1.2min\n"
     ]
    },
    {
     "name": "stderr",
     "output_type": "stream",
     "text": [
      "[Parallel(n_jobs=1)]: Done  60 out of  60 | elapsed: 89.6min finished\n"
     ]
    },
    {
     "name": "stdout",
     "output_type": "stream",
     "text": [
      "0.34938010582887313\n",
      "{'C': 10, 'gamma': 0.001}\n"
     ]
    }
   ],
   "source": [
    "from sklearn.svm import SVR\n",
    "from sklearn.model_selection import KFold\n",
    "cv=KFold(shuffle=True)\n",
    "\n",
    "from sklearn.model_selection import GridSearchCV\n",
    "param_grid={'C':[0.001,0.01,0.1,1,10],'gamma':[0.001,0.01,0.1,1]}\n",
    "\n",
    "grid=GridSearchCV(SVR(),param_grid=param_grid,cv=cv,verbose=3)\n",
    "grid.fit(cv2_train,star_train)"
   ]
  },
  {
   "cell_type": "code",
   "execution_count": 48,
   "metadata": {},
   "outputs": [
    {
     "name": "stdout",
     "output_type": "stream",
     "text": [
      "0.34938010582887313\n",
      "{'C': 10, 'gamma': 0.001}\n"
     ]
    }
   ],
   "source": [
    "grid.predict(cv2_test)\n",
    "print(grid.best_score_)\n",
    "print(grid.best_params_)"
   ]
  },
  {
   "cell_type": "code",
   "execution_count": 49,
   "metadata": {},
   "outputs": [
    {
     "data": {
      "text/plain": [
       "-0.25543435083579547"
      ]
     },
     "execution_count": 49,
     "metadata": {},
     "output_type": "execute_result"
    }
   ],
   "source": [
    "svr=SVR(gamma=0.001,C=10)\n",
    "svr.fit(cv2_train,star_train)\n",
    "svr.score(cv2_test,star_test)"
   ]
  },
  {
   "cell_type": "markdown",
   "metadata": {},
   "source": [
    "----CountVectorizer(ngram_range=(3, 3))"
   ]
  },
  {
   "cell_type": "code",
   "execution_count": 36,
   "metadata": {},
   "outputs": [],
   "source": [
    "vectorizer3 = CountVectorizer(ngram_range=(3, 3))\n",
    "vectorizer.fit(text_train)\n",
    "cv3_train=vectorizer.transform(text_train)\n",
    "cv3_test=vectorizer.transform(text_test)"
   ]
  },
  {
   "cell_type": "markdown",
   "metadata": {},
   "source": [
    "----LogisticRegression()"
   ]
  },
  {
   "cell_type": "code",
   "execution_count": 37,
   "metadata": {},
   "outputs": [
    {
     "data": {
      "text/plain": [
       "0.20668996505242138"
      ]
     },
     "execution_count": 37,
     "metadata": {},
     "output_type": "execute_result"
    }
   ],
   "source": [
    "logr=LogisticRegression()\n",
    "logr.fit(cv3_train,star_train)\n",
    "logr.score(cv3_test,star_test)"
   ]
  },
  {
   "cell_type": "code",
   "execution_count": 39,
   "metadata": {},
   "outputs": [
    {
     "data": {
      "text/plain": [
       "0.10683974038941588"
      ]
     },
     "execution_count": 39,
     "metadata": {},
     "output_type": "execute_result"
    }
   ],
   "source": [
    "star_pred_3=logreg(logr, cv2_train, cv2_test, star_train)\n",
    "np.mean(star_pred_3==star_test)"
   ]
  },
  {
   "cell_type": "markdown",
   "metadata": {},
   "source": [
    "----KNeighborsClassifier()"
   ]
  },
  {
   "cell_type": "code",
   "execution_count": 41,
   "metadata": {},
   "outputs": [
    {
     "data": {
      "text/plain": [
       "<matplotlib.legend.Legend at 0x1787a71a780>"
      ]
     },
     "execution_count": 41,
     "metadata": {},
     "output_type": "execute_result"
    },
    {
     "data": {
      "image/png": "[encoded data removed]",
      "text/plain": [
       "<matplotlib.figure.Figure at 0x178780fd668>"
      ]
     },
     "metadata": {},
     "output_type": "display_data"
    }
   ],
   "source": [
    "n_neighbors=[1,3,5,10,20,50]\n",
    "train_errors,validation_errors=validation_curve(KNC,cv3_train,star_train,param_name='n_neighbors',param_range=n_neighbors,cv=cv)\n",
    "\n",
    "plt.plot(n_neighbors,train_errors.mean(axis=1),label='training error')\n",
    "plt.plot(n_neighbors,validation_errors.mean(axis=1),label='validation error')\n",
    "plt.legend(loc='best')"
   ]
  },
  {
   "cell_type": "code",
   "execution_count": 42,
   "metadata": {},
   "outputs": [
    {
     "data": {
      "text/plain": [
       "0.19920119820269597"
      ]
     },
     "execution_count": 42,
     "metadata": {},
     "output_type": "execute_result"
    }
   ],
   "source": [
    "knc=KNeighborsClassifier(n_neighbors=20).fit(cv3_train,star_train)\n",
    "star_pred_cv3K=knc.predict(cv3_test)\n",
    "np.mean(star_pred_cv3K==star_test)"
   ]
  },
  {
   "cell_type": "markdown",
   "metadata": {},
   "source": [
    "----LinearRegression()"
   ]
  },
  {
   "cell_type": "code",
   "execution_count": 43,
   "metadata": {},
   "outputs": [
    {
     "data": {
      "text/plain": [
       "-0.6762652203685675"
      ]
     },
     "execution_count": 43,
     "metadata": {},
     "output_type": "execute_result"
    }
   ],
   "source": [
    "LR.fit(cv3_train,star_train)\n",
    "star_pred_LR=LR.predict(cv3_test)\n",
    "\n",
    "LR.score(cv3_test,star_test)"
   ]
  },
  {
   "cell_type": "markdown",
   "metadata": {},
   "source": [
    "----KNeighborsRegressor"
   ]
  },
  {
   "cell_type": "code",
   "execution_count": 44,
   "metadata": {},
   "outputs": [
    {
     "data": {
      "text/plain": [
       "-0.8457075652986392"
      ]
     },
     "execution_count": 44,
     "metadata": {},
     "output_type": "execute_result"
    }
   ],
   "source": [
    "KNR.fit(cv2_train,star_train)\n",
    "star_pred_KNR=KNR.predict(cv2_test)\n",
    "\n",
    "KNR.score(cv2_test,star_test)"
   ]
  },
  {
   "cell_type": "markdown",
   "metadata": {},
   "source": [
    "----svm()"
   ]
  },
  {
   "cell_type": "code",
   "execution_count": 45,
   "metadata": {},
   "outputs": [
    {
     "data": {
      "text/plain": [
       "0.20519221168247628"
      ]
     },
     "execution_count": 45,
     "metadata": {},
     "output_type": "execute_result"
    }
   ],
   "source": [
    "clf.fit(cv2_train,star_train)\n",
    "clf.score(cv2_test,star_test)"
   ]
  },
  {
   "cell_type": "markdown",
   "metadata": {},
   "source": [
    "----GridSearchCV(SVR())"
   ]
  },
  {
   "cell_type": "code",
   "execution_count": 46,
   "metadata": {
    "scrolled": true
   },
   "outputs": [
    {
     "name": "stdout",
     "output_type": "stream",
     "text": [
      "Fitting 3 folds for each of 20 candidates, totalling 60 fits\n",
      "[CV] C=0.001, gamma=0.001 ............................................\n",
      "[CV] .. C=0.001, gamma=0.001, score=-0.0635381149662777, total=  47.3s\n",
      "[CV] C=0.001, gamma=0.001 ............................................\n"
     ]
    },
    {
     "name": "stderr",
     "output_type": "stream",
     "text": [
      "[Parallel(n_jobs=1)]: Done   1 out of   1 | elapsed:  1.3min remaining:    0.0s\n"
     ]
    },
    {
     "name": "stdout",
     "output_type": "stream",
     "text": [
      "[CV] . C=0.001, gamma=0.001, score=-0.06469703099329593, total=  45.9s\n",
      "[CV] C=0.001, gamma=0.001 ............................................\n"
     ]
    },
    {
     "name": "stderr",
     "output_type": "stream",
     "text": [
      "[Parallel(n_jobs=1)]: Done   2 out of   2 | elapsed:  2.5min remaining:    0.0s\n"
     ]
    },
    {
     "name": "stdout",
     "output_type": "stream",
     "text": [
      "[CV] . C=0.001, gamma=0.001, score=-0.08374803359165806, total=  50.8s\n",
      "[CV] C=0.001, gamma=0.01 .............................................\n",
      "[CV] .. C=0.001, gamma=0.01, score=-0.06361268633643902, total= 1.1min\n",
      "[CV] C=0.001, gamma=0.01 .............................................\n",
      "[CV] .. C=0.001, gamma=0.01, score=-0.06456277327865512, total= 1.0min\n",
      "[CV] C=0.001, gamma=0.01 .............................................\n",
      "[CV] .. C=0.001, gamma=0.01, score=-0.08390557555093192, total=  52.9s\n",
      "[CV] C=0.001, gamma=0.1 ..............................................\n",
      "[CV] ... C=0.001, gamma=0.1, score=-0.06368233433084325, total=  45.8s\n",
      "[CV] C=0.001, gamma=0.1 ..............................................\n",
      "[CV] ... C=0.001, gamma=0.1, score=-0.06477271562367481, total=  46.3s\n",
      "[CV] C=0.001, gamma=0.1 ..............................................\n",
      "[CV] ... C=0.001, gamma=0.1, score=-0.08402427145780189, total=  48.6s\n",
      "[CV] C=0.001, gamma=1 ................................................\n",
      "[CV] ..... C=0.001, gamma=1, score=-0.06382551836273653, total=  54.7s\n",
      "[CV] C=0.001, gamma=1 ................................................\n",
      "[CV] ..... C=0.001, gamma=1, score=-0.06500269008109294, total=  53.9s\n",
      "[CV] C=0.001, gamma=1 ................................................\n",
      "[CV] ...... C=0.001, gamma=1, score=-0.0840702501935584, total= 1.1min\n",
      "[CV] C=0.01, gamma=0.001 .............................................\n",
      "[CV] .. C=0.01, gamma=0.001, score=-0.06326495992753567, total=  48.6s\n",
      "[CV] C=0.01, gamma=0.001 .............................................\n",
      "[CV] .. C=0.01, gamma=0.001, score=-0.06436452634306701, total=  49.2s\n",
      "[CV] C=0.01, gamma=0.001 .............................................\n",
      "[CV] .. C=0.01, gamma=0.001, score=-0.08364707605532651, total= 1.2min\n",
      "[CV] C=0.01, gamma=0.01 ..............................................\n",
      "[CV] ... C=0.01, gamma=0.01, score=-0.06266404106940215, total= 1.2min\n",
      "[CV] C=0.01, gamma=0.01 ..............................................\n",
      "[CV] ... C=0.01, gamma=0.01, score=-0.06064441771389961, total=  48.4s\n",
      "[CV] C=0.01, gamma=0.01 ..............................................\n",
      "[CV] ... C=0.01, gamma=0.01, score=-0.08381280415253145, total=  59.5s\n",
      "[CV] C=0.01, gamma=0.1 ...............................................\n",
      "[CV] .... C=0.01, gamma=0.1, score=-0.06245343498046285, total= 1.0min\n",
      "[CV] C=0.01, gamma=0.1 ...............................................\n",
      "[CV] .... C=0.01, gamma=0.1, score=-0.06290301388876274, total=  58.8s\n",
      "[CV] C=0.01, gamma=0.1 ...............................................\n",
      "[CV] .... C=0.01, gamma=0.1, score=-0.08389524166492035, total= 1.1min\n",
      "[CV] C=0.01, gamma=1 .................................................\n",
      "[CV] ...... C=0.01, gamma=1, score=-0.06383628871752922, total= 1.0min\n",
      "[CV] C=0.01, gamma=1 .................................................\n",
      "[CV] ...... C=0.01, gamma=1, score=-0.06503530800060586, total= 1.1min\n",
      "[CV] C=0.01, gamma=1 .................................................\n",
      "[CV] ...... C=0.01, gamma=1, score=-0.08425583716196194, total= 1.2min\n",
      "[CV] C=0.1, gamma=0.001 ..............................................\n",
      "[CV] ... C=0.1, gamma=0.001, score=-0.05989035034915035, total=  50.1s\n",
      "[CV] C=0.1, gamma=0.001 ..............................................\n",
      "[CV] ... C=0.1, gamma=0.001, score=-0.06029520034729052, total=  48.3s\n",
      "[CV] C=0.1, gamma=0.001 ..............................................\n",
      "[CV] ... C=0.1, gamma=0.001, score=-0.08209250214982289, total=  50.4s\n",
      "[CV] C=0.1, gamma=0.01 ...............................................\n",
      "[CV] .... C=0.1, gamma=0.01, score=-0.05556090516086343, total=  52.8s\n",
      "[CV] C=0.1, gamma=0.01 ...............................................\n",
      "[CV] .... C=0.1, gamma=0.01, score=-0.04584531503661249, total=  50.7s\n",
      "[CV] C=0.1, gamma=0.01 ...............................................\n",
      "[CV] .... C=0.1, gamma=0.01, score=-0.08378530000660311, total=  57.7s\n",
      "[CV] C=0.1, gamma=0.1 ................................................\n",
      "[CV] ..... C=0.1, gamma=0.1, score=-0.06134555562560107, total= 1.1min\n",
      "[CV] C=0.1, gamma=0.1 ................................................\n",
      "[CV] ..... C=0.1, gamma=0.1, score=-0.06277307672086874, total= 1.1min\n",
      "[CV] C=0.1, gamma=0.1 ................................................\n",
      "[CV] ..... C=0.1, gamma=0.1, score=-0.08430303761575386, total= 1.1min\n",
      "[CV] C=0.1, gamma=1 ..................................................\n",
      "[CV] ........ C=0.1, gamma=1, score=-0.0650974491416405, total= 1.1min\n",
      "[CV] C=0.1, gamma=1 ..................................................\n",
      "[CV] ....... C=0.1, gamma=1, score=-0.06621655162328643, total= 1.1min\n",
      "[CV] C=0.1, gamma=1 ..................................................\n",
      "[CV] ....... C=0.1, gamma=1, score=-0.08811711551400059, total= 1.1min\n",
      "[CV] C=1, gamma=0.001 ................................................\n",
      "[CV] ..... C=1, gamma=0.001, score=-0.05135735130837871, total=  51.1s\n",
      "[CV] C=1, gamma=0.001 ................................................\n",
      "[CV] ..... C=1, gamma=0.001, score=-0.04275863526012258, total=  50.8s\n",
      "[CV] C=1, gamma=0.001 ................................................\n",
      "[CV] ..... C=1, gamma=0.001, score=-0.07720606761570203, total=  53.8s\n",
      "[CV] C=1, gamma=0.01 .................................................\n",
      "[CV] ...... C=1, gamma=0.01, score=-0.04561246920642459, total=  51.4s\n",
      "[CV] C=1, gamma=0.01 .................................................\n",
      "[CV] ..... C=1, gamma=0.01, score=-0.042978446177410534, total=  52.3s\n",
      "[CV] C=1, gamma=0.01 .................................................\n",
      "[CV] ...... C=1, gamma=0.01, score=-0.07107237463152427, total=  53.8s\n",
      "[CV] C=1, gamma=0.1 ..................................................\n",
      "[CV] ...... C=1, gamma=0.1, score=-0.026219650126686256, total=  44.2s\n",
      "[CV] C=1, gamma=0.1 ..................................................\n",
      "[CV] ....... C=1, gamma=0.1, score=-0.02852983865705161, total=  44.2s\n",
      "[CV] C=1, gamma=0.1 ..................................................\n",
      "[CV] ....... C=1, gamma=0.1, score=-0.04991560158833486, total=  45.2s\n",
      "[CV] C=1, gamma=1 ....................................................\n",
      "[CV] .......... C=1, gamma=1, score=-0.0268853969168541, total=  45.9s\n",
      "[CV] C=1, gamma=1 ....................................................\n",
      "[CV] ........ C=1, gamma=1, score=-0.028309591464962258, total=  44.6s\n",
      "[CV] C=1, gamma=1 ....................................................\n",
      "[CV] ......... C=1, gamma=1, score=-0.05163256400142413, total=  47.4s\n",
      "[CV] C=10, gamma=0.001 ...............................................\n",
      "[CV] .... C=10, gamma=0.001, score=-0.09332698463941358, total= 1.2min\n",
      "[CV] C=10, gamma=0.001 ...............................................\n",
      "[CV] .... C=10, gamma=0.001, score=-0.08479238519446763, total= 1.1min\n",
      "[CV] C=10, gamma=0.001 ...............................................\n",
      "[CV] .... C=10, gamma=0.001, score=-0.09750065751332881, total= 1.1min\n",
      "[CV] C=10, gamma=0.01 ................................................\n",
      "[CV] ..... C=10, gamma=0.01, score=-0.04283087001020358, total= 1.1min\n",
      "[CV] C=10, gamma=0.01 ................................................\n",
      "[CV] ..... C=10, gamma=0.01, score=-0.03470683016795517, total= 1.1min\n",
      "[CV] C=10, gamma=0.01 ................................................\n",
      "[CV] ..... C=10, gamma=0.01, score=-0.03652250598563933, total= 1.0min\n",
      "[CV] C=10, gamma=0.1 .................................................\n",
      "[CV] .... C=10, gamma=0.1, score=-0.0038930060985933324, total= 1.1min\n",
      "[CV] C=10, gamma=0.1 .................................................\n",
      "[CV] .... C=10, gamma=0.1, score=-0.0032805850708859108, total= 1.1min\n",
      "[CV] C=10, gamma=0.1 .................................................\n",
      "[CV] ..... C=10, gamma=0.1, score=0.0001698333043242961, total= 1.1min\n",
      "[CV] C=10, gamma=1 ...................................................\n",
      "[CV] ...... C=10, gamma=1, score=-0.0038534167804811226, total= 1.2min\n",
      "[CV] C=10, gamma=1 ...................................................\n",
      "[CV] ....... C=10, gamma=1, score=-0.003430163522647689, total= 1.1min\n",
      "[CV] C=10, gamma=1 ...................................................\n",
      "[CV] ..... C=10, gamma=1, score=-0.00011651303256865476, total= 1.2min\n"
     ]
    },
    {
     "name": "stderr",
     "output_type": "stream",
     "text": [
      "[Parallel(n_jobs=1)]: Done  60 out of  60 | elapsed: 96.3min finished\n"
     ]
    },
    {
     "name": "stdout",
     "output_type": "stream",
     "text": [
      "-0.0023348991248977637\n",
      "{'C': 10, 'gamma': 0.1}\n"
     ]
    }
   ],
   "source": [
    "from sklearn.svm import SVR\n",
    "from sklearn.model_selection import KFold\n",
    "cv=KFold(shuffle=True)\n",
    "\n",
    "from sklearn.model_selection import GridSearchCV\n",
    "param_grid={'C':[0.001,0.01,0.1,1,10],'gamma':[0.001,0.01,0.1,1]}\n",
    "\n",
    "grid=GridSearchCV(SVR(),param_grid=param_grid,cv=cv,verbose=3)\n",
    "grid.fit(cv3_train,star_train)\n"
   ]
  },
  {
   "cell_type": "code",
   "execution_count": 50,
   "metadata": {},
   "outputs": [
    {
     "name": "stdout",
     "output_type": "stream",
     "text": [
      "0.34938010582887313\n",
      "{'C': 10, 'gamma': 0.001}\n"
     ]
    }
   ],
   "source": [
    "grid.predict(cv3_test)\n",
    "print(grid.best_score_)\n",
    "print(grid.best_params_)"
   ]
  },
  {
   "cell_type": "code",
   "execution_count": 51,
   "metadata": {},
   "outputs": [
    {
     "data": {
      "text/plain": [
       "-0.25379786124288306"
      ]
     },
     "execution_count": 51,
     "metadata": {},
     "output_type": "execute_result"
    }
   ],
   "source": [
    "svr=SVR(gamma=0.1,C=10)\n",
    "svr.fit(cv3_train,star_train)\n",
    "svr.score(cv3_test,star_test)"
   ]
  },
  {
   "cell_type": "markdown",
   "metadata": {},
   "source": [
    "----CountVectorizer(ngram_range=(1, 3))"
   ]
  },
  {
   "cell_type": "code",
   "execution_count": 52,
   "metadata": {},
   "outputs": [],
   "source": [
    "vectorizer13 = CountVectorizer(ngram_range=(1, 3))\n",
    "vectorizer.fit(text_train)\n",
    "cv13_train=vectorizer.transform(text_train)\n",
    "cv13_test=vectorizer.transform(text_test)"
   ]
  },
  {
   "cell_type": "markdown",
   "metadata": {},
   "source": [
    "----LogisticRegression()"
   ]
  },
  {
   "cell_type": "code",
   "execution_count": 53,
   "metadata": {},
   "outputs": [
    {
     "data": {
      "text/plain": [
       "0.20668996505242138"
      ]
     },
     "execution_count": 53,
     "metadata": {},
     "output_type": "execute_result"
    }
   ],
   "source": [
    "logr=LogisticRegression()\n",
    "logr.fit(cv13_train,star_train)\n",
    "logr.score(cv13_test,star_test)"
   ]
  },
  {
   "cell_type": "code",
   "execution_count": 54,
   "metadata": {},
   "outputs": [
    {
     "data": {
      "text/plain": [
       "0.07338991512730904"
      ]
     },
     "execution_count": 54,
     "metadata": {},
     "output_type": "execute_result"
    }
   ],
   "source": [
    "star_pred_13=logreg(logr, cv13_train, cv13_test, star_train)\n",
    "np.mean(star_pred_13==star_test)"
   ]
  },
  {
   "cell_type": "markdown",
   "metadata": {},
   "source": [
    "----KNeighborsClassifier()"
   ]
  },
  {
   "cell_type": "code",
   "execution_count": 55,
   "metadata": {},
   "outputs": [
    {
     "data": {
      "text/plain": [
       "<matplotlib.legend.Legend at 0x1781002ec50>"
      ]
     },
     "execution_count": 55,
     "metadata": {},
     "output_type": "execute_result"
    },
    {
     "data": {
      "image/png": "[encoded data removed]",
      "text/plain": [
       "<matplotlib.figure.Figure at 0x1780f456320>"
      ]
     },
     "metadata": {},
     "output_type": "display_data"
    }
   ],
   "source": [
    "n_neighbors=[1,3,5,10,20,50]\n",
    "train_errors,validation_errors=validation_curve(KNC,cv13_train,star_train,param_name='n_neighbors',param_range=n_neighbors,cv=cv)\n",
    "\n",
    "plt.plot(n_neighbors,train_errors.mean(axis=1),label='training error')\n",
    "plt.plot(n_neighbors,validation_errors.mean(axis=1),label='validation error')\n",
    "plt.legend(loc='best')"
   ]
  },
  {
   "cell_type": "code",
   "execution_count": 56,
   "metadata": {},
   "outputs": [
    {
     "data": {
      "text/plain": [
       "0.18771842236645034"
      ]
     },
     "execution_count": 56,
     "metadata": {},
     "output_type": "execute_result"
    }
   ],
   "source": [
    "knc=KNeighborsClassifier(n_neighbors=10).fit(cv13_train,star_train)\n",
    "star_pred_cv13K=knc.predict(cv13_test)\n",
    "np.mean(star_pred_cv13K==star_test)"
   ]
  },
  {
   "cell_type": "markdown",
   "metadata": {},
   "source": [
    "----LinearRegression()"
   ]
  },
  {
   "cell_type": "code",
   "execution_count": 57,
   "metadata": {},
   "outputs": [
    {
     "data": {
      "text/plain": [
       "-0.6762652203685675"
      ]
     },
     "execution_count": 57,
     "metadata": {},
     "output_type": "execute_result"
    }
   ],
   "source": [
    "LR.fit(cv13_train,star_train)\n",
    "star_pred_LR=LR.predict(cv13_test)\n",
    "\n",
    "LR.score(cv13_test,star_test)"
   ]
  },
  {
   "cell_type": "markdown",
   "metadata": {},
   "source": [
    "----KNeighborsRegressor"
   ]
  },
  {
   "cell_type": "code",
   "execution_count": 58,
   "metadata": {},
   "outputs": [
    {
     "data": {
      "text/plain": [
       "-0.17828452748890888"
      ]
     },
     "execution_count": 58,
     "metadata": {},
     "output_type": "execute_result"
    }
   ],
   "source": [
    "KNR.fit(cv13_train,star_train)\n",
    "star_pred_KNR=KNR.predict(cv13_test)\n",
    "\n",
    "KNR.score(cv13_test,star_test)"
   ]
  },
  {
   "cell_type": "markdown",
   "metadata": {},
   "source": [
    "----svm()"
   ]
  },
  {
   "cell_type": "code",
   "execution_count": 59,
   "metadata": {},
   "outputs": [
    {
     "data": {
      "text/plain": [
       "0.20519221168247628"
      ]
     },
     "execution_count": 59,
     "metadata": {},
     "output_type": "execute_result"
    }
   ],
   "source": [
    "clf.fit(cv13_train,star_train)\n",
    "clf.score(cv13_test,star_test)"
   ]
  },
  {
   "cell_type": "markdown",
   "metadata": {},
   "source": [
    "----GridSearchCV(SVR())"
   ]
  },
  {
   "cell_type": "code",
   "execution_count": 60,
   "metadata": {},
   "outputs": [],
   "source": [
    "from sklearn.svm import SVR\n",
    "from sklearn.model_selection import KFold\n",
    "cv=KFold(shuffle=True)\n",
    "\n",
    "from sklearn.model_selection import GridSearchCV\n",
    "param_grid={'C':[0.001,0.01,0.1,1,10],'gamma':[0.001,0.01,0.1,1]}\n",
    "\n",
    "grid=GridSearchCV(SVR(),param_grid=param_grid,cv=cv,verbose=3)"
   ]
  },
  {
   "cell_type": "code",
   "execution_count": 61,
   "metadata": {
    "scrolled": true
   },
   "outputs": [
    {
     "name": "stdout",
     "output_type": "stream",
     "text": [
      "Fitting 3 folds for each of 20 candidates, totalling 60 fits\n",
      "[CV] C=0.001, gamma=0.001 ............................................\n",
      "[CV] .. C=0.001, gamma=0.001, score=-0.0650400908491604, total= 1.3min\n",
      "[CV] C=0.001, gamma=0.001 ............................................\n"
     ]
    },
    {
     "name": "stderr",
     "output_type": "stream",
     "text": [
      "[Parallel(n_jobs=1)]: Done   1 out of   1 | elapsed:  2.1min remaining:    0.0s\n"
     ]
    },
    {
     "name": "stdout",
     "output_type": "stream",
     "text": [
      "[CV] . C=0.001, gamma=0.001, score=-0.06692369946592658, total= 1.1min\n",
      "[CV] C=0.001, gamma=0.001 ............................................\n"
     ]
    },
    {
     "name": "stderr",
     "output_type": "stream",
     "text": [
      "[Parallel(n_jobs=1)]: Done   2 out of   2 | elapsed:  4.0min remaining:    0.0s\n"
     ]
    },
    {
     "name": "stdout",
     "output_type": "stream",
     "text": [
      "[CV] . C=0.001, gamma=0.001, score=-0.07949105678330803, total= 1.1min\n",
      "[CV] C=0.001, gamma=0.01 .............................................\n",
      "[CV] .. C=0.001, gamma=0.01, score=-0.06410418645300253, total= 1.1min\n",
      "[CV] C=0.001, gamma=0.01 .............................................\n",
      "[CV] .. C=0.001, gamma=0.01, score=-0.06707021703391636, total= 1.1min\n",
      "[CV] C=0.001, gamma=0.01 .............................................\n",
      "[CV] .. C=0.001, gamma=0.01, score=-0.07962924330775922, total= 1.0min\n",
      "[CV] C=0.001, gamma=0.1 ..............................................\n",
      "[CV] ... C=0.001, gamma=0.1, score=-0.06515727789418335, total= 1.0min\n",
      "[CV] C=0.001, gamma=0.1 ..............................................\n",
      "[CV] ... C=0.001, gamma=0.1, score=-0.06721312693777914, total= 1.0min\n",
      "[CV] C=0.001, gamma=0.1 ..............................................\n",
      "[CV] ... C=0.001, gamma=0.1, score=-0.07958195473487373, total=  59.5s\n",
      "[CV] C=0.001, gamma=1 ................................................\n",
      "[CV] ..... C=0.001, gamma=1, score=-0.06533208993520812, total=  56.9s\n",
      "[CV] C=0.001, gamma=1 ................................................\n",
      "[CV] ..... C=0.001, gamma=1, score=-0.06724510053676536, total=  58.3s\n",
      "[CV] C=0.001, gamma=1 ................................................\n",
      "[CV] ..... C=0.001, gamma=1, score=-0.07979015756176722, total=  58.7s\n",
      "[CV] C=0.01, gamma=0.001 .............................................\n",
      "[CV] .. C=0.01, gamma=0.001, score=-0.06454315378599795, total= 1.0min\n",
      "[CV] C=0.01, gamma=0.001 .............................................\n",
      "[CV] .. C=0.01, gamma=0.001, score=-0.06674806288201762, total=  57.9s\n",
      "[CV] C=0.01, gamma=0.001 .............................................\n",
      "[CV] .. C=0.01, gamma=0.001, score=-0.07935647535329649, total= 1.5min\n",
      "[CV] C=0.01, gamma=0.01 ..............................................\n",
      "[CV] ... C=0.01, gamma=0.01, score=-0.05366260078500895, total= 1.3min\n",
      "[CV] C=0.01, gamma=0.01 ..............................................\n",
      "[CV] ... C=0.01, gamma=0.01, score=-0.06677998238499172, total= 1.5min\n",
      "[CV] C=0.01, gamma=0.01 ..............................................\n",
      "[CV] ... C=0.01, gamma=0.01, score=-0.07932652476131108, total= 1.6min\n",
      "[CV] C=0.01, gamma=0.1 ...............................................\n",
      "[CV] .... C=0.01, gamma=0.1, score=-0.06371707938941062, total= 1.7min\n",
      "[CV] C=0.01, gamma=0.1 ...............................................\n",
      "[CV] .... C=0.01, gamma=0.1, score=-0.06699637004690073, total= 2.1min\n",
      "[CV] C=0.01, gamma=0.1 ...............................................\n",
      "[CV] .... C=0.01, gamma=0.1, score=-0.07806951097808579, total= 1.7min\n",
      "[CV] C=0.01, gamma=1 .................................................\n",
      "[CV] ....... C=0.01, gamma=1, score=-0.0653703747441996, total= 1.6min\n",
      "[CV] C=0.01, gamma=1 .................................................\n",
      "[CV] ...... C=0.01, gamma=1, score=-0.06728548022841174, total= 1.9min\n",
      "[CV] C=0.01, gamma=1 .................................................\n",
      "[CV] ...... C=0.01, gamma=1, score=-0.07987066215199246, total= 1.9min\n",
      "[CV] C=0.1, gamma=0.001 ..............................................\n",
      "[CV] .. C=0.1, gamma=0.001, score=-0.059427128369470505, total= 1.3min\n",
      "[CV] C=0.1, gamma=0.001 ..............................................\n",
      "[CV] ... C=0.1, gamma=0.001, score=-0.06411999961756143, total= 1.3min\n",
      "[CV] C=0.1, gamma=0.001 ..............................................\n",
      "[CV] ... C=0.1, gamma=0.001, score=-0.07739443315483752, total= 1.4min\n",
      "[CV] C=0.1, gamma=0.01 ...............................................\n",
      "[CV] .... C=0.1, gamma=0.01, score=-0.04714340305704545, total= 1.4min\n",
      "[CV] C=0.1, gamma=0.01 ...............................................\n",
      "[CV] ..... C=0.1, gamma=0.01, score=-0.0641142288533576, total= 1.5min\n",
      "[CV] C=0.1, gamma=0.01 ...............................................\n",
      "[CV] .... C=0.1, gamma=0.01, score=-0.07772813111605292, total= 1.6min\n",
      "[CV] C=0.1, gamma=0.1 ................................................\n",
      "[CV] ..... C=0.1, gamma=0.1, score=-0.06313749725375217, total= 1.8min\n",
      "[CV] C=0.1, gamma=0.1 ................................................\n",
      "[CV] ..... C=0.1, gamma=0.1, score=-0.06658888605277191, total= 1.8min\n",
      "[CV] C=0.1, gamma=0.1 ................................................\n",
      "[CV] ..... C=0.1, gamma=0.1, score=-0.07935447692831588, total= 1.8min\n",
      "[CV] C=0.1, gamma=1 ..................................................\n",
      "[CV] ....... C=0.1, gamma=1, score=-0.06673417866711251, total= 1.9min\n",
      "[CV] C=0.1, gamma=1 ..................................................\n",
      "[CV] ....... C=0.1, gamma=1, score=-0.06929140151684932, total= 1.9min\n",
      "[CV] C=0.1, gamma=1 ..................................................\n",
      "[CV] ....... C=0.1, gamma=1, score=-0.08286966917681893, total= 1.8min\n",
      "[CV] C=1, gamma=0.001 ................................................\n",
      "[CV] ..... C=1, gamma=0.001, score=-0.04324952298332163, total= 1.1min\n",
      "[CV] C=1, gamma=0.001 ................................................\n",
      "[CV] ..... C=1, gamma=0.001, score=-0.05520214878974472, total= 1.2min\n",
      "[CV] C=1, gamma=0.001 ................................................\n",
      "[CV] ..... C=1, gamma=0.001, score=-0.06739994631311297, total= 1.3min\n",
      "[CV] C=1, gamma=0.01 .................................................\n",
      "[CV] ..... C=1, gamma=0.01, score=-0.042134817330394814, total= 1.3min\n",
      "[CV] C=1, gamma=0.01 .................................................\n",
      "[CV] ...... C=1, gamma=0.01, score=-0.05330447478039524, total= 1.1min\n",
      "[CV] C=1, gamma=0.01 .................................................\n",
      "[CV] ...... C=1, gamma=0.01, score=-0.06320120506551641, total=  51.0s\n",
      "[CV] C=1, gamma=0.1 ..................................................\n",
      "[CV] ....... C=1, gamma=0.1, score=-0.02799222353525166, total=  49.3s\n",
      "[CV] C=1, gamma=0.1 ..................................................\n",
      "[CV] ...... C=1, gamma=0.1, score=-0.030522532651547474, total=  46.8s\n",
      "[CV] C=1, gamma=0.1 ..................................................\n",
      "[CV] ....... C=1, gamma=0.1, score=-0.04641091880387527, total=  46.7s\n",
      "[CV] C=1, gamma=1 ....................................................\n",
      "[CV] ........ C=1, gamma=1, score=-0.028349387612618404, total=  43.8s\n",
      "[CV] C=1, gamma=1 ....................................................\n",
      "[CV] ......... C=1, gamma=1, score=-0.03133062195181413, total=  44.6s\n",
      "[CV] C=1, gamma=1 ....................................................\n",
      "[CV] ......... C=1, gamma=1, score=-0.04597801930300882, total=  45.1s\n",
      "[CV] C=10, gamma=0.001 ...............................................\n",
      "[CV] ... C=10, gamma=0.001, score=-0.061689761326468195, total= 1.0min\n",
      "[CV] C=10, gamma=0.001 ...............................................\n",
      "[CV] .... C=10, gamma=0.001, score=-0.09811779428610601, total= 1.0min\n",
      "[CV] C=10, gamma=0.001 ...............................................\n",
      "[CV] ...... C=10, gamma=0.001, score=-0.083288940633933, total= 1.0min\n",
      "[CV] C=10, gamma=0.01 ................................................\n",
      "[CV] .... C=10, gamma=0.01, score=-0.022984002925824587, total= 1.1min\n",
      "[CV] C=10, gamma=0.01 ................................................\n",
      "[CV] ..... C=10, gamma=0.01, score=-0.04280949893301256, total= 1.1min\n",
      "[CV] C=10, gamma=0.01 ................................................\n",
      "[CV] ..... C=10, gamma=0.01, score=-0.03574520181531238, total= 1.1min\n",
      "[CV] C=10, gamma=0.1 .................................................\n",
      "[CV] ..... C=10, gamma=0.1, score=-0.004608630574084671, total= 1.5min\n",
      "[CV] C=10, gamma=0.1 .................................................\n",
      "[CV] .... C=10, gamma=0.1, score=-0.0024867308383327287, total= 1.5min\n",
      "[CV] C=10, gamma=0.1 .................................................\n",
      "[CV] ..... C=10, gamma=0.1, score=-0.004544614423412918, total= 1.5min\n",
      "[CV] C=10, gamma=1 ...................................................\n",
      "[CV] ....... C=10, gamma=1, score=-0.003499191794174239, total= 1.6min\n",
      "[CV] C=10, gamma=1 ...................................................\n",
      "[CV] ...... C=10, gamma=1, score=-0.0019704259486919007, total= 1.7min\n",
      "[CV] C=10, gamma=1 ...................................................\n",
      "[CV] ...... C=10, gamma=1, score=-0.0017448392817258629, total= 1.5min\n"
     ]
    },
    {
     "name": "stderr",
     "output_type": "stream",
     "text": [
      "[Parallel(n_jobs=1)]: Done  60 out of  60 | elapsed: 130.2min finished\n"
     ]
    },
    {
     "name": "stdout",
     "output_type": "stream",
     "text": [
      "-0.002404901536611298\n",
      "{'C': 10, 'gamma': 1}\n"
     ]
    }
   ],
   "source": [
    "grid.fit(cv13_train,star_train)\n",
    "grid.predict(cv13_test)\n",
    "print(grid.best_score_)\n",
    "print(grid.best_params_)"
   ]
  },
  {
   "cell_type": "code",
   "execution_count": null,
   "metadata": {},
   "outputs": [],
   "source": []
  }
 ],
 "metadata": {
  "kernelspec": {
   "display_name": "Python 3",
   "language": "python",
   "name": "python3"
  },
  "language_info": {
   "codemirror_mode": {
    "name": "ipython",
    "version": 3
   },
   "file_extension": ".py",
   "mimetype": "text/x-python",
   "name": "python",
   "nbconvert_exporter": "python",
   "pygments_lexer": "ipython3",
   "version": "3.6.4"
  }
 },
 "nbformat": 4,
 "nbformat_minor": 2
}
