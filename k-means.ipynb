{
 "cells": [
  {
   "cell_type": "code",
   "execution_count": 1,
   "metadata": {},
   "outputs": [],
   "source": [
    "import pandas as pd\n",
    "import matplotlib.pyplot as plt\n",
    "import math\n",
    "import random\n",
    "import numpy as np"
   ]
  },
  {
   "cell_type": "code",
   "execution_count": 2,
   "metadata": {},
   "outputs": [
    {
     "data": {
      "text/html": [
       "<div>\n",
       "<style scoped>\n",
       "    .dataframe tbody tr th:only-of-type {\n",
       "        vertical-align: middle;\n",
       "    }\n",
       "\n",
       "    .dataframe tbody tr th {\n",
       "        vertical-align: top;\n",
       "    }\n",
       "\n",
       "    .dataframe thead th {\n",
       "        text-align: right;\n",
       "    }\n",
       "</style>\n",
       "<table border=\"1\" class=\"dataframe\">\n",
       "  <thead>\n",
       "    <tr style=\"text-align: right;\">\n",
       "      <th></th>\n",
       "      <th>x</th>\n",
       "      <th>y</th>\n",
       "      <th>cluster</th>\n",
       "    </tr>\n",
       "  </thead>\n",
       "  <tbody>\n",
       "    <tr>\n",
       "      <th>0</th>\n",
       "      <td>2.1364</td>\n",
       "      <td>0.8369</td>\n",
       "      <td>1</td>\n",
       "    </tr>\n",
       "    <tr>\n",
       "      <th>1</th>\n",
       "      <td>7.4096</td>\n",
       "      <td>-1.4137</td>\n",
       "      <td>3</td>\n",
       "    </tr>\n",
       "    <tr>\n",
       "      <th>2</th>\n",
       "      <td>5.0996</td>\n",
       "      <td>1.1552</td>\n",
       "      <td>0</td>\n",
       "    </tr>\n",
       "    <tr>\n",
       "      <th>3</th>\n",
       "      <td>7.8149</td>\n",
       "      <td>-1.0186</td>\n",
       "      <td>3</td>\n",
       "    </tr>\n",
       "    <tr>\n",
       "      <th>4</th>\n",
       "      <td>1.8925</td>\n",
       "      <td>1.2714</td>\n",
       "      <td>1</td>\n",
       "    </tr>\n",
       "  </tbody>\n",
       "</table>\n",
       "</div>"
      ],
      "text/plain": [
       "        x       y  cluster\n",
       "0  2.1364  0.8369        1\n",
       "1  7.4096 -1.4137        3\n",
       "2  5.0996  1.1552        0\n",
       "3  7.8149 -1.0186        3\n",
       "4  1.8925  1.2714        1"
      ]
     },
     "execution_count": 2,
     "metadata": {},
     "output_type": "execute_result"
    }
   ],
   "source": [
    "df=pd.read_csv(\"cdata.csv\")\n",
    "df.head()"
   ]
  },
  {
   "cell_type": "code",
   "execution_count": 3,
   "metadata": {},
   "outputs": [
    {
     "data": {
      "text/plain": [
       "<matplotlib.axes._subplots.AxesSubplot at 0x283daeed438>"
      ]
     },
     "execution_count": 3,
     "metadata": {},
     "output_type": "execute_result"
    },
    {
     "data": {
      "image/png": "[encoded data removed]",
      "text/plain": [
       "<matplotlib.figure.Figure at 0x283dadef908>"
      ]
     },
     "metadata": {},
     "output_type": "display_data"
    }
   ],
   "source": [
    "#先劃出點的散布圖觀察\n",
    "\n",
    "#plt.plot(df.x,df.y,'.')\n",
    "#plt.xlabel('x')\n",
    "#plt.ylabel('y')\n",
    "\"\"\"\n",
    "#依據cluster做標點\n",
    "#color=str.maketrans('0','r')#str.maketrans('1','g'),str.maketrans('2','b'),str.maketrans('3','y')\n",
    "#df.cluster.translate(color) #pandas的dataframe可以直接做matplot\n",
    "#但series不能translate\n",
    "\n",
    "#-->用map\n",
    "color={0:'r',1:'y',2:'g',3:'b'}\n",
    "df['color']=df['cluster'].map(color)\n",
    "#df.head()\n",
    "df.plot.scatter(x='x',y='y',c=df['color'])\n",
    "\"\"\"\n",
    "df.plot.scatter(x='x',y='y')\n",
    "#df.plot.scatter(x=df.x[c_1],y=df.y[c_1],'x')"
   ]
  },
  {
   "cell_type": "code",
   "execution_count": 13,
   "metadata": {},
   "outputs": [
    {
     "data": {
      "text/plain": [
       "{0.4548: 2.0407, 0.6017: 1.2008, 2.0552: -1.9854, 3.8585: 1.4949}"
      ]
     },
     "execution_count": 13,
     "metadata": {},
     "output_type": "execute_result"
    }
   ],
   "source": [
    "#隨機選出起始centroid\n",
    "import random\n",
    "k=4\n",
    "c_1=random.sample(range(len(df)),k)\n",
    "c=dict(zip(df.x[c_1],df.y[c_1]))\n",
    "c"
   ]
  },
  {
   "cell_type": "code",
   "execution_count": 6,
   "metadata": {},
   "outputs": [
    {
     "data": {
      "text/plain": [
       "[<matplotlib.lines.Line2D at 0x24804cff710>]"
      ]
     },
     "execution_count": 6,
     "metadata": {},
     "output_type": "execute_result"
    },
    {
     "data": {
      "image/png": "[encoded data removed]",
      "text/plain": [
       "<matplotlib.figure.Figure at 0x24804bf7be0>"
      ]
     },
     "metadata": {},
     "output_type": "display_data"
    }
   ],
   "source": [
    "plt.plot(df.x,df.y,'.')\n",
    "plt.plot(df.x[c_1],df.y[c_1],'x')"
   ]
  },
  {
   "cell_type": "code",
   "execution_count": 6,
   "metadata": {},
   "outputs": [],
   "source": [
    "#cluster的方法:計算出各點離哪個centroid距離最小)\n",
    "import math\n",
    "def cluster(x,y,c):\n",
    "    #參數:df.x,df.y,c\n",
    "    s=dict(zip(x,y))\n",
    "    min_d=[]\n",
    "    for i in s:\n",
    "        d=[]\n",
    "        for j in c:\n",
    "            d.append(math.pow((math.pow((i-j),2)+math.pow((s[i]-c[j]),2)),0.5))\n",
    "        min_d.append(d.index(min(d)))\n",
    "    df['pre_cluster']=min_d  \n",
    "    color={0:'r',1:'y',2:'g',3:'b'}\n",
    "    df['color']=df['pre_cluster'].map(color)\n",
    "    df.plot.scatter(x='x',y='y',c=df['color'])\n",
    "    plt.plot(c.keys(),c.values(),'x',c='k')\n",
    "    print(df.head())\n"
   ]
  },
  {
   "cell_type": "code",
   "execution_count": 7,
   "metadata": {},
   "outputs": [],
   "source": [
    "#重新計算出新的centroid\n",
    "import numpy as np\n",
    "\n",
    "def centroid(x,y,k,c):\n",
    "    c.clear()\n",
    "    #參數是df.x,df.y,k\n",
    "    #建立新的k個centroid的座標\n",
    "    c_x=[]\n",
    "    c_y=[]\n",
    "    for i in range(k):\n",
    "        c_x.append(np.mean(list(x[df.pre_cluster==i])))\n",
    "        c_y.append(np.mean(list(y[df.pre_cluster==i])))\n",
    "    c=dict(zip(c_x,c_y))\n",
    "    return c\n"
   ]
  },
  {
   "cell_type": "code",
   "execution_count": 12,
   "metadata": {},
   "outputs": [
    {
     "name": "stdout",
     "output_type": "stream",
     "text": [
      "        x       y  cluster  pre_cluster color\n",
      "0  2.1364  0.8369        1            1     y\n",
      "1  7.4096 -1.4137        3            0     r\n",
      "2  5.0996  1.1552        0            2     g\n",
      "3  7.8149 -1.0186        3            0     r\n",
      "4  1.8925  1.2714        1            1     y\n"
     ]
    },
    {
     "data": {
      "image/png": "[encoded data removed]",
      "text/plain": [
       "<matplotlib.figure.Figure at 0x21fbbcb07f0>"
      ]
     },
     "metadata": {},
     "output_type": "display_data"
    }
   ],
   "source": [
    "cluster(df.x,df.y,c)\n",
    "c=centroid(df.x,df.y,k,c)"
   ]
  },
  {
   "cell_type": "code",
   "execution_count": 71,
   "metadata": {},
   "outputs": [],
   "source": [
    "#以下為方法2 用class做\n",
    "#優點是方法都被建置在同一類中 因此變數成為類的屬性 可以共用 (上面那樣各自分開的方法中 變數為local的 無法成為global而共用)\n",
    "class k_means(object):\n",
    "    #initialize\n",
    "    #self:class本身 必為方法的第一個參數\n",
    "    def __init__(self,x,y,k): #底線為超長版的\n",
    "        self.x=x\n",
    "        self.y=y\n",
    "        self.k=k\n",
    "        #self.c_l=list(self.c.items())\n",
    "        self.d_min=[]\n",
    "        self.SSE\n",
    "        #self.c\n",
    "        \n",
    "    #隨機建立k個centroid\n",
    "    def creat_centroid(self):\n",
    "        c_1=random.sample(range(len(df)),self.k)\n",
    "        self.c=dict(zip(df.x[c_1],df.y[c_1]))\n",
    "        return self.c\n",
    "    \n",
    "    #重新cluster\n",
    "    def cluster(self):#self一定要留著\n",
    "        s=dict(zip(self.x,self.y))\n",
    "        min_d=[]\n",
    "        for i in s:\n",
    "            d=[]\n",
    "            for j in self.c:\n",
    "                d.append(math.pow((math.pow((i-j),2)+math.pow((s[i]-self.c[j]),2)),0.5))\n",
    "            min_d.append(d.index(min(d)))\n",
    "            self.d_min.append(min(d))\n",
    "        df['pre_cluster']=min_d\n",
    "       # if self.k==4:\n",
    "        #    color={0:'r',1:'y',2:'g',3:'b'}\n",
    "         #   df['color']=df['pre_cluster'].map(color)\n",
    "          #  df.plot.scatter(x='x',y='y',c=df['color'])\n",
    "           # plt.plot(self.c.keys(),self.c.values(),'x',c='k')\n",
    "        \n",
    "    #重新計算centroid\n",
    "    def re_centroid(self):\n",
    "        self.c.clear()\n",
    "        c_x=[]\n",
    "        c_y=[]\n",
    "        for i in range(self.k):\n",
    "            c_x.append(np.mean(list(self.x[df.pre_cluster==i])))\n",
    "            c_y.append(np.mean(list(self.y[df.pre_cluster==i])))\n",
    "        self.c=dict(zip(c_x,c_y))\n",
    "    \n",
    "    #持續更新分類直到收斂\n",
    "    def converge(self):\n",
    "        while True:\n",
    "            self.cluster() #self就是類本身 所以這個類的method-->self.method()\n",
    "            c_=set(self.c.items()) #不管順序，所以用set\n",
    "            self.re_centroid()\n",
    "            if set(self.c.items())==c_: #set內容物是否相同-->用==\n",
    "                break\n",
    "        print(\"ok\")\n",
    "        #color={0:'r',1:'y',2:'g',3:'b'}\n",
    "        #df['color']=df['pre_cluster'].map(color)\n",
    "        #for i in range(self.k):\n",
    "        #    plt.scatter(x=df.x,y=df.y)\n",
    "        #plt.plot(self.c.keys(),self.c.values(),'x',c='k')\n",
    "    \n",
    "    #計算SSE\n",
    "    def SSE(self):\n",
    "        #self.SSE=sum(self.d)\n",
    "        #return self.SSE\n",
    "        #for i in range(self.k):\n",
    "        #    for j in range(len(self.x[df.pre_cluster==i])):\n",
    "        #        SSE+=((math.pow(list(self.x[df.pre_cluster==i])[j]-self.c_l[i][0],2))\n",
    "        #              +(math.pow(list(self.y[df.pre_cluster==i])[j]-self.c_l[i][1],2)))\n",
    "        #return SSE\n",
    "        SSE=[]\n",
    "        for i in range(len(self.d_min)):\n",
    "            SSE.append(math.pow(self.d_min[i],4))\n",
    "        self.SSE=sum(SSE)\n",
    "        return self.SSE   \n",
    "            "
   ]
  },
  {
   "cell_type": "code",
   "execution_count": 72,
   "metadata": {},
   "outputs": [],
   "source": [
    "#建立一個物件 其參數為__int__的參數\n",
    "km1=k_means(df.x,df.y,4) "
   ]
  },
  {
   "cell_type": "code",
   "execution_count": 83,
   "metadata": {},
   "outputs": [
    {
     "data": {
      "text/plain": [
       "{3.4312: 2.3381, 6.839: -1.3145, 7.306: -0.4568, 7.6949: -0.5904}"
      ]
     },
     "execution_count": 83,
     "metadata": {},
     "output_type": "execute_result"
    }
   ],
   "source": [
    "#先執行建立起始centroid\n",
    "km1.creat_centroid()"
   ]
  },
  {
   "cell_type": "code",
   "execution_count": 84,
   "metadata": {
    "scrolled": true
   },
   "outputs": [
    {
     "name": "stdout",
     "output_type": "stream",
     "text": [
      "ok\n"
     ]
    }
   ],
   "source": [
    "#在執行持續更新分類直到收斂\n",
    "km1.converge()"
   ]
  },
  {
   "cell_type": "code",
   "execution_count": 85,
   "metadata": {},
   "outputs": [
    {
     "ename": "TypeError",
     "evalue": "'float' object is not callable",
     "output_type": "error",
     "traceback": [
      "\u001b[1;31m---------------------------------------------------------------------------\u001b[0m",
      "\u001b[1;31mTypeError\u001b[0m                                 Traceback (most recent call last)",
      "\u001b[1;32m<ipython-input-85-7a883e1ad250>\u001b[0m in \u001b[0;36m<module>\u001b[1;34m()\u001b[0m\n\u001b[1;32m----> 1\u001b[1;33m \u001b[0mkm1\u001b[0m\u001b[1;33m.\u001b[0m\u001b[0mSSE\u001b[0m\u001b[1;33m(\u001b[0m\u001b[1;33m)\u001b[0m\u001b[1;33m\u001b[0m\u001b[0m\n\u001b[0m",
      "\u001b[1;31mTypeError\u001b[0m: 'float' object is not callable"
     ]
    }
   ],
   "source": [
    "km1.SSE()"
   ]
  },
  {
   "cell_type": "code",
   "execution_count": 9,
   "metadata": {},
   "outputs": [],
   "source": [
    "#第二題：是建立k_means的k=2~50個物件\n",
    "#針對k=2~50個物件進行操作\n",
    "km=[]\n",
    "for k in range(2,51):\n",
    "    km.append(k_means(df.x,df.y,k))\n",
    "    km[k-2].creat_centroid()\n",
    "\n"
   ]
  },
  {
   "cell_type": "code",
   "execution_count": 10,
   "metadata": {
    "scrolled": true
   },
   "outputs": [
    {
     "name": "stdout",
     "output_type": "stream",
     "text": [
      "ok\n",
      "ok\n",
      "ok\n",
      "ok\n",
      "ok\n",
      "ok\n",
      "ok\n",
      "ok\n",
      "ok\n",
      "ok\n",
      "ok\n",
      "ok\n",
      "ok\n",
      "ok\n",
      "ok\n",
      "ok\n",
      "ok\n",
      "ok\n",
      "ok\n",
      "ok\n",
      "ok\n",
      "ok\n",
      "ok\n",
      "ok\n",
      "ok\n",
      "ok\n",
      "ok\n",
      "ok\n",
      "ok\n",
      "ok\n",
      "ok\n",
      "ok\n",
      "ok\n",
      "ok\n",
      "ok\n",
      "ok\n",
      "ok\n",
      "ok\n",
      "ok\n",
      "ok\n",
      "ok\n",
      "ok\n",
      "ok\n",
      "ok\n",
      "ok\n",
      "ok\n",
      "ok\n",
      "ok\n",
      "ok\n"
     ]
    }
   ],
   "source": [
    "#更新直到收斂的方法一:\n",
    "for i in range(2,51):\n",
    "    km[i-2].converge()"
   ]
  },
  {
   "cell_type": "code",
   "execution_count": 20,
   "metadata": {},
   "outputs": [
    {
     "name": "stderr",
     "output_type": "stream",
     "text": [
      "C:\\Users\\User\\Anaconda3\\lib\\site-packages\\numpy\\core\\fromnumeric.py:2957: RuntimeWarning: Mean of empty slice.\n",
      "  out=out, **kwargs)\n",
      "C:\\Users\\User\\Anaconda3\\lib\\site-packages\\numpy\\core\\_methods.py:80: RuntimeWarning: invalid value encountered in double_scalars\n",
      "  ret = ret.dtype.type(ret / rcount)\n"
     ]
    }
   ],
   "source": [
    "#更新直到收斂的方法二：\n",
    "for i in range(49):\n",
    "    for j in range(10):\n",
    "        km[i].cluster()\n",
    "        km[i].centroid()"
   ]
  },
  {
   "cell_type": "code",
   "execution_count": 19,
   "metadata": {
    "scrolled": true
   },
   "outputs": [
    {
     "name": "stderr",
     "output_type": "stream",
     "text": [
      "C:\\Users\\User\\Anaconda3\\lib\\site-packages\\numpy\\core\\fromnumeric.py:2957: RuntimeWarning: Mean of empty slice.\n",
      "  out=out, **kwargs)\n",
      "C:\\Users\\User\\Anaconda3\\lib\\site-packages\\numpy\\core\\_methods.py:80: RuntimeWarning: invalid value encountered in double_scalars\n",
      "  ret = ret.dtype.type(ret / rcount)\n"
     ]
    },
    {
     "ename": "KeyboardInterrupt",
     "evalue": "",
     "output_type": "error",
     "traceback": [
      "\u001b[1;31m---------------------------------------------------------------------------\u001b[0m",
      "\u001b[1;31mKeyboardInterrupt\u001b[0m                         Traceback (most recent call last)",
      "\u001b[1;32m<ipython-input-19-f53440adb889>\u001b[0m in \u001b[0;36m<module>\u001b[1;34m()\u001b[0m\n\u001b[0;32m      1\u001b[0m \u001b[1;32mfor\u001b[0m \u001b[0mi\u001b[0m \u001b[1;32min\u001b[0m \u001b[0mrange\u001b[0m\u001b[1;33m(\u001b[0m\u001b[1;36m49\u001b[0m\u001b[1;33m)\u001b[0m\u001b[1;33m:\u001b[0m\u001b[1;33m\u001b[0m\u001b[0m\n\u001b[0;32m      2\u001b[0m     \u001b[1;32mwhile\u001b[0m \u001b[1;32mTrue\u001b[0m\u001b[1;33m:\u001b[0m\u001b[1;33m\u001b[0m\u001b[0m\n\u001b[1;32m----> 3\u001b[1;33m         \u001b[0mkm\u001b[0m\u001b[1;33m[\u001b[0m\u001b[0mi\u001b[0m\u001b[1;33m]\u001b[0m\u001b[1;33m.\u001b[0m\u001b[0mcluster\u001b[0m\u001b[1;33m(\u001b[0m\u001b[1;33m)\u001b[0m\u001b[1;33m\u001b[0m\u001b[0m\n\u001b[0m\u001b[0;32m      4\u001b[0m         \u001b[0mc_\u001b[0m\u001b[1;33m=\u001b[0m\u001b[0mset\u001b[0m\u001b[1;33m(\u001b[0m\u001b[0mkm\u001b[0m\u001b[1;33m[\u001b[0m\u001b[0mi\u001b[0m\u001b[1;33m]\u001b[0m\u001b[1;33m.\u001b[0m\u001b[0mc\u001b[0m\u001b[1;33m.\u001b[0m\u001b[0mitems\u001b[0m\u001b[1;33m(\u001b[0m\u001b[1;33m)\u001b[0m\u001b[1;33m)\u001b[0m\u001b[1;33m\u001b[0m\u001b[0m\n\u001b[0;32m      5\u001b[0m         \u001b[0mkm\u001b[0m\u001b[1;33m[\u001b[0m\u001b[0mi\u001b[0m\u001b[1;33m]\u001b[0m\u001b[1;33m.\u001b[0m\u001b[0mcentroid\u001b[0m\u001b[1;33m(\u001b[0m\u001b[1;33m)\u001b[0m\u001b[1;33m\u001b[0m\u001b[0m\n",
      "\u001b[1;32m<ipython-input-4-5e27391140b1>\u001b[0m in \u001b[0;36mcluster\u001b[1;34m(self)\u001b[0m\n\u001b[0;32m     19\u001b[0m             \u001b[0md\u001b[0m\u001b[1;33m=\u001b[0m\u001b[1;33m[\u001b[0m\u001b[1;33m]\u001b[0m\u001b[1;33m\u001b[0m\u001b[0m\n\u001b[0;32m     20\u001b[0m             \u001b[1;32mfor\u001b[0m \u001b[0mj\u001b[0m \u001b[1;32min\u001b[0m \u001b[0mself\u001b[0m\u001b[1;33m.\u001b[0m\u001b[0mc\u001b[0m\u001b[1;33m:\u001b[0m\u001b[1;33m\u001b[0m\u001b[0m\n\u001b[1;32m---> 21\u001b[1;33m                 \u001b[0md\u001b[0m\u001b[1;33m.\u001b[0m\u001b[0mappend\u001b[0m\u001b[1;33m(\u001b[0m\u001b[0mmath\u001b[0m\u001b[1;33m.\u001b[0m\u001b[0mpow\u001b[0m\u001b[1;33m(\u001b[0m\u001b[1;33m(\u001b[0m\u001b[0mmath\u001b[0m\u001b[1;33m.\u001b[0m\u001b[0mpow\u001b[0m\u001b[1;33m(\u001b[0m\u001b[1;33m(\u001b[0m\u001b[0mi\u001b[0m\u001b[1;33m-\u001b[0m\u001b[0mj\u001b[0m\u001b[1;33m)\u001b[0m\u001b[1;33m,\u001b[0m\u001b[1;36m2\u001b[0m\u001b[1;33m)\u001b[0m\u001b[1;33m+\u001b[0m\u001b[0mmath\u001b[0m\u001b[1;33m.\u001b[0m\u001b[0mpow\u001b[0m\u001b[1;33m(\u001b[0m\u001b[1;33m(\u001b[0m\u001b[0ms\u001b[0m\u001b[1;33m[\u001b[0m\u001b[0mi\u001b[0m\u001b[1;33m]\u001b[0m\u001b[1;33m-\u001b[0m\u001b[0mself\u001b[0m\u001b[1;33m.\u001b[0m\u001b[0mc\u001b[0m\u001b[1;33m[\u001b[0m\u001b[0mj\u001b[0m\u001b[1;33m]\u001b[0m\u001b[1;33m)\u001b[0m\u001b[1;33m,\u001b[0m\u001b[1;36m2\u001b[0m\u001b[1;33m)\u001b[0m\u001b[1;33m)\u001b[0m\u001b[1;33m,\u001b[0m\u001b[1;36m0.5\u001b[0m\u001b[1;33m)\u001b[0m\u001b[1;33m)\u001b[0m\u001b[1;33m\u001b[0m\u001b[0m\n\u001b[0m\u001b[0;32m     22\u001b[0m             \u001b[0mmin_d\u001b[0m\u001b[1;33m.\u001b[0m\u001b[0mappend\u001b[0m\u001b[1;33m(\u001b[0m\u001b[0md\u001b[0m\u001b[1;33m.\u001b[0m\u001b[0mindex\u001b[0m\u001b[1;33m(\u001b[0m\u001b[0mmin\u001b[0m\u001b[1;33m(\u001b[0m\u001b[0md\u001b[0m\u001b[1;33m)\u001b[0m\u001b[1;33m)\u001b[0m\u001b[1;33m)\u001b[0m\u001b[1;33m\u001b[0m\u001b[0m\n\u001b[0;32m     23\u001b[0m             \u001b[0mself\u001b[0m\u001b[1;33m.\u001b[0m\u001b[0md\u001b[0m\u001b[1;33m.\u001b[0m\u001b[0mappend\u001b[0m\u001b[1;33m(\u001b[0m\u001b[0mmin\u001b[0m\u001b[1;33m(\u001b[0m\u001b[0md\u001b[0m\u001b[1;33m)\u001b[0m\u001b[1;33m)\u001b[0m\u001b[1;33m\u001b[0m\u001b[0m\n",
      "\u001b[1;31mKeyboardInterrupt\u001b[0m: "
     ]
    }
   ],
   "source": [
    "###更新直到收斂的方法三：不!這個會跑超久 看不見盡頭\n",
    "for i in range(49):\n",
    "    while True:\n",
    "        km[i].cluster()\n",
    "        c_=set(km[i].c.items())\n",
    "        km[i].centroid()\n",
    "        if set(km[i].c.items())==c_:\n",
    "            break"
   ]
  },
  {
   "cell_type": "code",
   "execution_count": 11,
   "metadata": {
    "scrolled": true
   },
   "outputs": [
    {
     "data": {
      "text/plain": [
       "[428959.3915775174,\n",
       " 69346.26641430258,\n",
       " 16071.033758140153,\n",
       " 6180.554613575678,\n",
       " 2967.0766035285965,\n",
       " 8632.959846950489,\n",
       " 1920.787954200757,\n",
       " 4715.618030293911,\n",
       " 1144.2411098481084,\n",
       " 1411.5092334603755,\n",
       " 1213.481831093161,\n",
       " 1598.432773558001,\n",
       " 795.3464212149469,\n",
       " 660.7825387866817,\n",
       " 656.8638162798983,\n",
       " 801.4324170995936,\n",
       " 328.7319647289076,\n",
       " 855.3511310133484,\n",
       " 544.4468664214969,\n",
       " 306.47100129121355,\n",
       " 383.267512610523,\n",
       " 306.53166749510234,\n",
       " 375.4478245426463,\n",
       " 398.7923805126913,\n",
       " 367.1114342365847,\n",
       " 244.823649264725,\n",
       " 179.2112855265435,\n",
       " 298.31869390148086,\n",
       " 284.96510521726924,\n",
       " 283.77298699306533,\n",
       " 152.53747468157178,\n",
       " 142.13033333893134,\n",
       " 152.22653388463738,\n",
       " 135.93685263123604,\n",
       " 160.20202863676448,\n",
       " 118.08587204306401,\n",
       " 112.13005564835828,\n",
       " 91.80531650018722,\n",
       " 107.92830972714899,\n",
       " 114.11957171610233,\n",
       " 117.46394813358799,\n",
       " 72.37558557199299,\n",
       " 115.4539869477541,\n",
       " 68.06702151219837,\n",
       " 69.30407331736252,\n",
       " 82.67377808211131,\n",
       " 48.738355232994984,\n",
       " 55.58483867792788,\n",
       " 59.964933311116624]"
      ]
     },
     "execution_count": 11,
     "metadata": {},
     "output_type": "execute_result"
    }
   ],
   "source": [
    "#得到SSE\n",
    "SSE=[]\n",
    "for i in range(2,51):\n",
    "    SSE.append(km[i-2].SSE())\n",
    "SSE"
   ]
  },
  {
   "cell_type": "code",
   "execution_count": 12,
   "metadata": {
    "scrolled": true
   },
   "outputs": [
    {
     "data": {
      "text/plain": [
       "[2,\n",
       " 3,\n",
       " 4,\n",
       " 5,\n",
       " 6,\n",
       " 7,\n",
       " 8,\n",
       " 9,\n",
       " 10,\n",
       " 11,\n",
       " 12,\n",
       " 13,\n",
       " 14,\n",
       " 15,\n",
       " 16,\n",
       " 17,\n",
       " 18,\n",
       " 19,\n",
       " 20,\n",
       " 21,\n",
       " 22,\n",
       " 23,\n",
       " 24,\n",
       " 25,\n",
       " 26,\n",
       " 27,\n",
       " 28,\n",
       " 29,\n",
       " 30,\n",
       " 31,\n",
       " 32,\n",
       " 33,\n",
       " 34,\n",
       " 35,\n",
       " 36,\n",
       " 37,\n",
       " 38,\n",
       " 39,\n",
       " 40,\n",
       " 41,\n",
       " 42,\n",
       " 43,\n",
       " 44,\n",
       " 45,\n",
       " 46,\n",
       " 47,\n",
       " 48,\n",
       " 49,\n",
       " 50]"
      ]
     },
     "execution_count": 12,
     "metadata": {},
     "output_type": "execute_result"
    }
   ],
   "source": [
    "k=list(range(2,51))\n",
    "k"
   ]
  },
  {
   "cell_type": "code",
   "execution_count": 13,
   "metadata": {},
   "outputs": [
    {
     "data": {
      "text/plain": [
       "[<matplotlib.lines.Line2D at 0x2008ba6eeb8>]"
      ]
     },
     "execution_count": 13,
     "metadata": {},
     "output_type": "execute_result"
    },
    {
     "data": {
      "image/png": "[encoded data removed]",
      "text/plain": [
       "<matplotlib.figure.Figure at 0x2008b45ac18>"
      ]
     },
     "metadata": {},
     "output_type": "display_data"
    }
   ],
   "source": [
    "#畫圖:k-SSE\n",
    "plt.plot(k,SSE)"
   ]
  },
  {
   "cell_type": "code",
   "execution_count": 88,
   "metadata": {},
   "outputs": [
    {
     "name": "stdout",
     "output_type": "stream",
     "text": [
      "ok\n",
      "ok\n",
      "ok\n",
      "ok\n",
      "ok\n",
      "ok\n",
      "ok\n",
      "ok\n",
      "ok\n",
      "ok\n"
     ]
    },
    {
     "data": {
      "text/plain": [
       "[1518.1873298297376,\n",
       " 1682.5835804629492,\n",
       " 13539.619700089981,\n",
       " 966.2603410548976,\n",
       " 1895.6134850056985,\n",
       " 886.2047083537556,\n",
       " 1718.396166196644,\n",
       " 1453.217491212778,\n",
       " 1311.291958681923,\n",
       " 11078.025744674262]"
      ]
     },
     "execution_count": 88,
     "metadata": {},
     "output_type": "execute_result"
    }
   ],
   "source": [
    "#第三題：隨機建立10次10個centroid並做kmeans，已得到SSE\n",
    "SSE=[]\n",
    "km10=[]\n",
    "for i in range(10):\n",
    "    km10.append(k_means(df.x,df.y,10))\n",
    "    km10[i].creat_centroid()\n",
    "    km10[i].converge()\n",
    "    SSE.append(km10[i].SSE())\n",
    "SSE"
   ]
  },
  {
   "cell_type": "code",
   "execution_count": 89,
   "metadata": {
    "scrolled": true
   },
   "outputs": [
    {
     "data": {
      "text/plain": [
       "<Container object of 10 artists>"
      ]
     },
     "execution_count": 89,
     "metadata": {},
     "output_type": "execute_result"
    },
    {
     "data": {
      "image/png": "[encoded data removed]",
      "text/plain": [
       "<matplotlib.figure.Figure at 0x2008d109358>"
      ]
     },
     "metadata": {},
     "output_type": "display_data"
    }
   ],
   "source": [
    "#畫圖 次數vsSSE\n",
    "plt.bar(range(10),SSE)"
   ]
  },
  {
   "cell_type": "code",
   "execution_count": 5,
   "metadata": {},
   "outputs": [
    {
     "data": {
      "text/plain": [
       "Text(0,0.5,'distortion')"
      ]
     },
     "execution_count": 5,
     "metadata": {},
     "output_type": "execute_result"
    },
    {
     "data": {
      "image/png": "[encoded data removed]",
      "text/plain": [
       "<matplotlib.figure.Figure at 0x1eb286a10b8>"
      ]
     },
     "metadata": {},
     "output_type": "display_data"
    }
   ],
   "source": [
    "#用KMeans模組做clustering、elbow method\n",
    "from sklearn.datasets import make_blobs\n",
    "X,y=make_blobs(random_state=42)\n",
    "\n",
    "from sklearn.cluster import KMeans\n",
    "kmeans=KMeans(n_clusters=3,random_state=42)\n",
    "kmeans.fit_predict(X)\n",
    "\n",
    "distortion=[]\n",
    "for i in range(1,11):\n",
    "    km=KMeans(n_clusters=i,random_state=0)\n",
    "    km.fit(X)\n",
    "    distortion.append(km.inertia_)\n",
    "\n",
    "import matplotlib.pyplot as plt\n",
    "plt.plot(range(1,11),distortion,marker='o')\n",
    "plt.xlabel('number of cluster')\n",
    "plt.ylabel('distortion')\n"
   ]
  },
  {
   "cell_type": "code",
   "execution_count": 102,
   "metadata": {},
   "outputs": [],
   "source": [
    "#copy模組\n",
    "#有copr、deepcopy兩種方法\n",
    "import copy\n",
    "a=['aa',22,[1,2,3]]\n",
    "#.copy是淺拷貝:是建立另一個物件，而其子物件是共用的(引用)(一起改)\n",
    "b=copy.copy(a)\n",
    "#.deepcopy是深拷貝:建立另一個物件，而其子物件也被完全拷貝過去形成新的獨立物件(彼此完全獨立)\n",
    "c=copy.deepcopy(a)"
   ]
  },
  {
   "cell_type": "code",
   "execution_count": 103,
   "metadata": {},
   "outputs": [],
   "source": [
    "a[2][1]=1000\n",
    "a[1]='eeeee' #物件的屬性不是物件，所以不會彼此改到拷貝的物件屬性"
   ]
  },
  {
   "cell_type": "code",
   "execution_count": 106,
   "metadata": {},
   "outputs": [
    {
     "name": "stdout",
     "output_type": "stream",
     "text": [
      "2201369281608 2201397834000 2201406115720 ['aa', 'eeeee', [1, 1000, 3]]\n",
      "2201401729864 1772253312 2201406115720 ['aa', 22, [1, 1000, 3]]\n",
      "2201403828872 1772253312 2201401729992 ['aa', 22, [1, 2, 3]]\n"
     ]
    }
   ],
   "source": [
    "print(id(a),id(a[1]),id(a[2]),a)\n",
    "print(id(b),id(b[1]),id(b[2]),b)\n",
    "print(id(c),id(c[1]),id(c[2]),c)"
   ]
  },
  {
   "cell_type": "code",
   "execution_count": 107,
   "metadata": {},
   "outputs": [
    {
     "name": "stdout",
     "output_type": "stream",
     "text": [
      "['aa', 'eeeee', [4, 1000, 3]] ['aa', 22, [4, 1000, 3]]\n"
     ]
    }
   ],
   "source": [
    "b[2][0]=4\n",
    "print(a,b)"
   ]
  },
  {
   "cell_type": "code",
   "execution_count": 108,
   "metadata": {},
   "outputs": [
    {
     "name": "stdout",
     "output_type": "stream",
     "text": [
      "['aa', 'eeeee', [4, 1000, 3]] ['aa', 333, [4, 1000, 3]]\n"
     ]
    }
   ],
   "source": [
    "b[1]=333\n",
    "print(a,b)"
   ]
  },
  {
   "cell_type": "code",
   "execution_count": null,
   "metadata": {},
   "outputs": [],
   "source": []
  }
 ],
 "metadata": {
  "kernelspec": {
   "display_name": "Python 3",
   "language": "python",
   "name": "python3"
  },
  "language_info": {
   "codemirror_mode": {
    "name": "ipython",
    "version": 3
   },
   "file_extension": ".py",
   "mimetype": "text/x-python",
   "name": "python",
   "nbconvert_exporter": "python",
   "pygments_lexer": "ipython3",
   "version": "3.6.4"
  }
 },
 "nbformat": 4,
 "nbformat_minor": 2
}
