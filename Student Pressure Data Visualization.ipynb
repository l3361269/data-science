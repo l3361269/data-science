{
 "cells": [
  {
   "cell_type": "code",
   "execution_count": 1,
   "metadata": {},
   "outputs": [],
   "source": [
    "file=open(\"pressure.csv\",'r')"
   ]
  },
  {
   "cell_type": "code",
   "execution_count": 2,
   "metadata": {},
   "outputs": [],
   "source": [
    "import pandas as pd"
   ]
  },
  {
   "cell_type": "code",
   "execution_count": 3,
   "metadata": {},
   "outputs": [
    {
     "data": {
      "text/plain": [
       "[109,\n",
       " 109,\n",
       " 109,\n",
       " 109,\n",
       " 110,\n",
       " 108,\n",
       " 108,\n",
       " 107,\n",
       " 108,\n",
       " 107,\n",
       " 109,\n",
       " 109,\n",
       " 110,\n",
       " 106,\n",
       " 107,\n",
       " 109,\n",
       " 108,\n",
       " 108,\n",
       " 110,\n",
       " 109,\n",
       " 109,\n",
       " 110,\n",
       " 109,\n",
       " 110,\n",
       " 110,\n",
       " 110,\n",
       " 110,\n",
       " 110,\n",
       " 110,\n",
       " 110,\n",
       " 109,\n",
       " 109,\n",
       " 109,\n",
       " 109,\n",
       " 109,\n",
       " 110,\n",
       " 109,\n",
       " 110,\n",
       " 110,\n",
       " 110,\n",
       " 108,\n",
       " 108,\n",
       " 108,\n",
       " 108,\n",
       " 108,\n",
       " 109,\n",
       " 110,\n",
       " 110,\n",
       " 109,\n",
       " 108,\n",
       " 107,\n",
       " 109,\n",
       " 110,\n",
       " 110,\n",
       " 110,\n",
       " 108,\n",
       " 108,\n",
       " 109,\n",
       " 107,\n",
       " 110,\n",
       " 108,\n",
       " 108,\n",
       " 108,\n",
       " 109,\n",
       " 108,\n",
       " 108,\n",
       " 106,\n",
       " 108,\n",
       " 108,\n",
       " 108,\n",
       " 107,\n",
       " 107,\n",
       " 107,\n",
       " 107,\n",
       " 107,\n",
       " 107,\n",
       " 107,\n",
       " 107,\n",
       " 108,\n",
       " 110,\n",
       " 108,\n",
       " 106,\n",
       " 108]"
      ]
     },
     "execution_count": 3,
     "metadata": {},
     "output_type": "execute_result"
    }
   ],
   "source": [
    "F=file.readlines()\n",
    "F=F[1:]\n",
    "year=[]\n",
    "pressure=[]\n",
    "line=\"\"\n",
    "row=[]\n",
    "for i in F:\n",
    "    line=i.strip()\n",
    "    row=line.split(\",\")\n",
    "    year.append(int(row[0]))\n",
    "    pressure.append(int(row[1]))\n",
    "file.close()\n",
    "year"
   ]
  },
  {
   "cell_type": "code",
   "execution_count": 4,
   "metadata": {},
   "outputs": [
    {
     "data": {
      "text/plain": [
       "[1, 1, 1, 1, 8, 16, 11, 24, 12, 5, 3]"
      ]
     },
     "execution_count": 4,
     "metadata": {},
     "output_type": "execute_result"
    }
   ],
   "source": [
    "pressure_set=set(pressure)\n",
    "pressure_set_list=list(pressure_set)\n",
    "pressure_count=[]\n",
    "for i in pressure_set_list:\n",
    "    pressure_count.append(pressure.count(i))\n",
    "pressure_count"
   ]
  },
  {
   "cell_type": "code",
   "execution_count": 5,
   "metadata": {},
   "outputs": [],
   "source": [
    "import matplotlib.pyplot as plt"
   ]
  },
  {
   "cell_type": "code",
   "execution_count": 6,
   "metadata": {},
   "outputs": [
    {
     "data": {
      "image/png": "[encoded data removed]",
      "text/plain": [
       "<matplotlib.figure.Figure at 0x285d59cd2b0>"
      ]
     },
     "metadata": {},
     "output_type": "display_data"
    }
   ],
   "source": [
    "plt.bar(pressure_set_list,pressure_count,tick_label=pressure_set_list,color='c')\n",
    "plt.xlabel(\"Pressure levels (0-10)\")\n",
    "plt.ylabel(\"Number of people\")\n",
    "plt.show()"
   ]
  },
  {
   "cell_type": "code",
   "execution_count": 7,
   "metadata": {},
   "outputs": [
    {
     "data": {
      "text/plain": [
       "Text(0.5,1,'Pressure Level')"
      ]
     },
     "execution_count": 7,
     "metadata": {},
     "output_type": "execute_result"
    },
    {
     "data": {
      "image/png": "[encoded data removed]",
      "text/plain": [
       "<matplotlib.figure.Figure at 0x285d5d23320>"
      ]
     },
     "metadata": {},
     "output_type": "display_data"
    }
   ],
   "source": [
    "Low=pressure_count[0]+pressure_count[1]+pressure_count[2]+pressure_count[3]\n",
    "Middle=pressure_count[4]+pressure_count[5]+pressure_count[6]\n",
    "High=pressure_count[7]+pressure_count[8]+pressure_count[9]+pressure_count[10]\n",
    "pressure_pie=[Low,Middle,High]\n",
    "labels=[\"Low\",\"Middle\",\"High\"]\n",
    "plt.pie(pressure_pie,autopct=\"%.2f%%\",labels=labels)\n",
    "plt.axis(\"equal\")\n",
    "plt.title(\"Pressure Level\")"
   ]
  },
  {
   "cell_type": "code",
   "execution_count": 8,
   "metadata": {},
   "outputs": [
    {
     "data": {
      "text/plain": [
       "[[1, 1, 1, 1, 0], [1, 4, 7, 12, 11], [1, 8, 16, 8, 11]]"
      ]
     },
     "execution_count": 8,
     "metadata": {},
     "output_type": "execute_result"
    }
   ],
   "source": [
    "x=0\n",
    "Low=[0,0,0,0,0]\n",
    "Middle=[0,0,0,0,0]\n",
    "High=[0,0,0,0,0]\n",
    "for i in pressure:\n",
    "    if i<=3:\n",
    "        if year[x]==106:\n",
    "            Low[0]+=1\n",
    "        elif year[x]==107:\n",
    "            Low[1]+=1\n",
    "        elif year[x]==108:\n",
    "            Low[2]+=1\n",
    "        elif year[x]==109:\n",
    "            Low[3]+=1\n",
    "        else:\n",
    "            Low[4]+=1\n",
    "    elif i<=6:\n",
    "        if year[x]==106:\n",
    "            Middle[0]+=1\n",
    "        elif year[x]==107:\n",
    "            Middle[1]+=1\n",
    "        elif year[x]==108:\n",
    "            Middle[2]+=1\n",
    "        elif year[x]==109:\n",
    "            Middle[3]+=1\n",
    "        else:\n",
    "            Middle[4]+=1\n",
    "    else:\n",
    "        if year[x]==106:\n",
    "            High[0]+=1\n",
    "        elif year[x]==107:\n",
    "            High[1]+=1\n",
    "        elif year[x]==108:\n",
    "            High[2]+=1\n",
    "        elif year[x]==109:\n",
    "            High[3]+=1\n",
    "        else:\n",
    "            High[4]+=1\n",
    "    x+=1\n",
    "level=[Low,Middle,High]\n",
    "level"
   ]
  },
  {
   "cell_type": "code",
   "execution_count": 11,
   "metadata": {},
   "outputs": [
    {
     "data": {
      "text/html": [
       "<div>\n",
       "<style scoped>\n",
       "    .dataframe tbody tr th:only-of-type {\n",
       "        vertical-align: middle;\n",
       "    }\n",
       "\n",
       "    .dataframe tbody tr th {\n",
       "        vertical-align: top;\n",
       "    }\n",
       "\n",
       "    .dataframe thead th {\n",
       "        text-align: right;\n",
       "    }\n",
       "</style>\n",
       "<table border=\"1\" class=\"dataframe\">\n",
       "  <thead>\n",
       "    <tr style=\"text-align: right;\">\n",
       "      <th></th>\n",
       "      <th>Low</th>\n",
       "      <th>Middle</th>\n",
       "      <th>High</th>\n",
       "    </tr>\n",
       "  </thead>\n",
       "  <tbody>\n",
       "    <tr>\n",
       "      <th>106</th>\n",
       "      <td>1</td>\n",
       "      <td>1</td>\n",
       "      <td>1</td>\n",
       "    </tr>\n",
       "    <tr>\n",
       "      <th>107</th>\n",
       "      <td>1</td>\n",
       "      <td>4</td>\n",
       "      <td>8</td>\n",
       "    </tr>\n",
       "    <tr>\n",
       "      <th>108</th>\n",
       "      <td>1</td>\n",
       "      <td>7</td>\n",
       "      <td>16</td>\n",
       "    </tr>\n",
       "    <tr>\n",
       "      <th>109</th>\n",
       "      <td>1</td>\n",
       "      <td>12</td>\n",
       "      <td>8</td>\n",
       "    </tr>\n",
       "    <tr>\n",
       "      <th>110</th>\n",
       "      <td>0</td>\n",
       "      <td>11</td>\n",
       "      <td>11</td>\n",
       "    </tr>\n",
       "  </tbody>\n",
       "</table>\n",
       "</div>"
      ],
      "text/plain": [
       "     Low  Middle  High\n",
       "106    1       1     1\n",
       "107    1       4     8\n",
       "108    1       7    16\n",
       "109    1      12     8\n",
       "110    0      11    11"
      ]
     },
     "execution_count": 11,
     "metadata": {},
     "output_type": "execute_result"
    }
   ],
   "source": [
    "set=[\"Low\",\"Middle\",\"High\"]\n",
    "data=dict(zip(set,level))\n",
    "index=[\"106\",\"107\",\"108\",\"109\",\"110\"]\n",
    "df=pd.DataFrame(data,index=index,columns=set)\n",
    "df"
   ]
  },
  {
   "cell_type": "code",
   "execution_count": 12,
   "metadata": {},
   "outputs": [
    {
     "data": {
      "text/plain": [
       "<matplotlib.axes._subplots.AxesSubplot at 0x285d59df630>"
      ]
     },
     "execution_count": 12,
     "metadata": {},
     "output_type": "execute_result"
    },
    {
     "data": {
      "image/png": "[encoded data removed]",
      "text/plain": [
       "<matplotlib.figure.Figure at 0x285d59dfb00>"
      ]
     },
     "metadata": {},
     "output_type": "display_data"
    }
   ],
   "source": [
    "df.plot.bar()"
   ]
  },
  {
   "cell_type": "code",
   "execution_count": null,
   "metadata": {},
   "outputs": [],
   "source": []
  }
 ],
 "metadata": {
  "kernelspec": {
   "display_name": "Python 3",
   "language": "python",
   "name": "python3"
  },
  "language_info": {
   "codemirror_mode": {
    "name": "ipython",
    "version": 3
   },
   "file_extension": ".py",
   "mimetype": "text/x-python",
   "name": "python",
   "nbconvert_exporter": "python",
   "pygments_lexer": "ipython3",
   "version": "3.6.4"
  }
 },
 "nbformat": 4,
 "nbformat_minor": 2
}
