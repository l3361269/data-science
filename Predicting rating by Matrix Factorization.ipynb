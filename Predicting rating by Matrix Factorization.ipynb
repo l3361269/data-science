{
 "cells": [
  {
   "cell_type": "markdown",
   "metadata": {},
   "source": [
    "# Matrix Factorization without and with Bias\n",
    "## Load user rating file, covert the rating file into user-item matrix"
   ]
  },
  {
   "cell_type": "code",
   "execution_count": 1,
   "metadata": {},
   "outputs": [
    {
     "name": "stdout",
     "output_type": "stream",
     "text": [
      "Number of users = 943 | Number of movies = 1682\n"
     ]
    }
   ],
   "source": [
    "import numpy as np\n",
    "import pandas as pd\n",
    "\n",
    "ratingfile = 'ratings.data'\n",
    "header = ['user_id', 'item_id', 'rating', 'timestamp']\n",
    "df = pd.read_csv(ratingfile, sep='\\t', names=header)\n",
    "\n",
    "n_users = df.user_id.unique().shape[0]\n",
    "n_items = df.item_id.unique().shape[0]\n",
    "print('Number of users = ' + str(n_users) + ' | Number of movies = ' + str(n_items))\n",
    "\n",
    "user_item_matrix = np.zeros((n_users, n_items))\n",
    "for line in df.itertuples():\n",
    "    user_item_matrix[line[1] - 1, line[2] - 1] = line[3]"
   ]
  },
  {
   "cell_type": "markdown",
   "metadata": {},
   "source": [
    "## Split the user-item matrix set into training set and testing set"
   ]
  },
  {
   "cell_type": "code",
   "execution_count": 2,
   "metadata": {},
   "outputs": [],
   "source": [
    "from sklearn.metrics import mean_squared_error\n",
    "from sklearn.model_selection import train_test_split\n",
    "\n",
    "# split the data set into training set and testing set\n",
    "train_data, test_data = train_test_split(df, test_size=0.25)\n",
    "\n",
    "# transfer the train set and test set of ratings to user-item matrix\n",
    "    \n",
    "train = pd.DataFrame(train_data)\n",
    "test = pd.DataFrame(test_data)\n",
    "\n",
    "train_matrix = np.zeros((n_users, n_items))\n",
    "for line in train.itertuples():\n",
    "    train_matrix[int(line[1]) - 1, int(line[2]) - 1] = line[3]\n",
    "\n",
    "test_matrix = np.zeros((n_users, n_items))\n",
    "for line in test.itertuples():\n",
    "    test_matrix[int(line[1]) - 1, int(line[2]) - 1] = line[3]  \n"
   ]
  },
  {
   "cell_type": "markdown",
   "metadata": {},
   "source": [
    "## Compute the Rooted mean square error to evaluate the accuaracy"
   ]
  },
  {
   "cell_type": "code",
   "execution_count": 3,
   "metadata": {},
   "outputs": [],
   "source": [
    "from sklearn.metrics import mean_squared_error\n",
    "from math import sqrt\n",
    "def rmse(pred_rate, true_rate):\n",
    "    prediction = pred_rate[true_rate.nonzero()].flatten() \n",
    "    true_rate = true_rate[true_rate.nonzero()].flatten()\n",
    "    return sqrt(mean_squared_error(prediction, true_rate))"
   ]
  },
  {
   "cell_type": "markdown",
   "metadata": {},
   "source": [
    "## Get the index for the non-zero rating in training and testing user-item matrix "
   ]
  },
  {
   "cell_type": "code",
   "execution_count": 4,
   "metadata": {},
   "outputs": [],
   "source": [
    "# Index matrix for training data\n",
    "train_ind = train_matrix.copy()\n",
    "train_ind[train_ind > 0] = 1\n",
    "train_ind[train_ind == 0] = 0\n",
    "\n",
    "# Index matrix for test data\n",
    "test_ind = test_matrix.copy()\n",
    "test_ind[test_ind > 0] = 1\n",
    "test_ind[test_ind == 0] = 0"
   ]
  },
  {
   "cell_type": "markdown",
   "metadata": {},
   "source": [
    "## Prediction function"
   ]
  },
  {
   "cell_type": "code",
   "execution_count": 5,
   "metadata": {},
   "outputs": [],
   "source": [
    "# Predict the unknown ratings through the dot product of the latent features for users and items and the bias\n",
    "def prediction_sgd_bias(P, Q, b_global, b_user, b_item):\n",
    "    ratings = np.dot(P, Q.T)\n",
    "    for u in range(len(b_user)):\n",
    "        for i in range(len(b_item)):\n",
    "            ratings[u][i] = b_global +  b_user[u] + b_item[i] + ratings[u][i]\n",
    "    return ratings"
   ]
  },
  {
   "cell_type": "markdown",
   "metadata": {},
   "source": [
    "## Rooted mean square error computation function"
   ]
  },
  {
   "cell_type": "code",
   "execution_count": 6,
   "metadata": {},
   "outputs": [],
   "source": [
    "# Calculate the RMSE for SGD (without bias)\n",
    "def sgd_rmse(ind, data_matrix, P, Q):\n",
    "    return np.sqrt(np.sum((ind * (data_matrix - np.dot(P, Q.T)))**2)/len(data_matrix[data_matrix > 0]))\n",
    "\n",
    "# Calculate the RMSE for SGD with bias\n",
    "def sgd_bias_rmse(ind, data_matrix, P, Q, b_global, b_user, b_item):\n",
    "    return np.sqrt(np.sum((ind * (data_matrix - prediction_sgd_bias(P, Q, b_global, b_user, b_item)))**2)/len(data_matrix[data_matrix > 0]))"
   ]
  },
  {
   "cell_type": "markdown",
   "metadata": {},
   "source": [
    "## Stochastic Gradient Descent (SGD) function"
   ]
  },
  {
   "cell_type": "code",
   "execution_count": 7,
   "metadata": {},
   "outputs": [],
   "source": [
    "def sgd(train, test, train_ind, test_ind, factor_k, alpha, lmbda, iteration):\n",
    "    print (\"Computing using SGD ......\")\n",
    "    \n",
    "    train_errors = []\n",
    "    test_errors = []\n",
    "    \n",
    "    m, n = train.shape # Number of users and items in training set\n",
    "    \n",
    "    # initialize Latent user feature matrix and Latent movie feature matrix\n",
    "    P = 3 * np.random.rand(m, factor_k)  # Latent user feature matrix\n",
    "    Q = 3 * np.random.rand(n, factor_k)  # Latent movie feature matrix\n",
    "    \n",
    "    # Only consider non-zero elements in the training matrix\n",
    "    users, items = train.nonzero()\n",
    "    for it in range(iteration): #iteration: how many times of updating P, Q\n",
    "        print(\"SGD Iteration\", it)\n",
    "        for u, i in zip(users, items):\n",
    "            e = train[u, i] - (np.dot(P[u], Q[i].T))  # Calculate error for gradient\n",
    "            P[u] += alpha * (e * Q[i] - lmbda * P[u])  # Update latent user feature matrix\n",
    "            Q[i] += alpha * (e * P[u] - lmbda * Q[i])  # Update latent movie feature matrix\n",
    "        train_rmse = sgd_rmse(train_ind, train, P, Q)  # Calculate root mean squared error from train dataset\n",
    "        test_rmse = sgd_rmse(test_ind, test, P, Q)  # Calculate root mean squared error from test dataset\n",
    "        train_errors.append(train_rmse)\n",
    "        test_errors.append(test_rmse)\n",
    "\n",
    "    return train_errors, test_errors"
   ]
  },
  {
   "cell_type": "markdown",
   "metadata": {},
   "source": [
    "## Prediction using SGD\n",
    "** It is important to note that SGD with 100 iterations may take more than 10 minutes or more to complete! (depend on your computer) **"
   ]
  },
  {
   "cell_type": "code",
   "execution_count": 22,
   "metadata": {
    "scrolled": true
   },
   "outputs": [
    {
     "name": "stdout",
     "output_type": "stream",
     "text": [
      "Computing using SGD ......\n",
      "SGD Iteration 0\n",
      "SGD Iteration 1\n",
      "SGD Iteration 2\n",
      "SGD Iteration 3\n",
      "SGD Iteration 4\n",
      "SGD Iteration 5\n",
      "SGD Iteration 6\n",
      "SGD Iteration 7\n",
      "SGD Iteration 8\n",
      "SGD Iteration 9\n",
      "SGD Iteration 10\n",
      "SGD Iteration 11\n",
      "SGD Iteration 12\n",
      "SGD Iteration 13\n",
      "SGD Iteration 14\n",
      "SGD Iteration 15\n",
      "SGD Iteration 16\n",
      "SGD Iteration 17\n",
      "SGD Iteration 18\n",
      "SGD Iteration 19\n",
      "SGD Iteration 20\n",
      "SGD Iteration 21\n",
      "SGD Iteration 22\n",
      "SGD Iteration 23\n",
      "SGD Iteration 24\n",
      "SGD Iteration 25\n",
      "SGD Iteration 26\n",
      "SGD Iteration 27\n",
      "SGD Iteration 28\n",
      "SGD Iteration 29\n",
      "SGD Iteration 30\n",
      "SGD Iteration 31\n",
      "SGD Iteration 32\n",
      "SGD Iteration 33\n",
      "SGD Iteration 34\n",
      "SGD Iteration 35\n",
      "SGD Iteration 36\n",
      "SGD Iteration 37\n",
      "SGD Iteration 38\n",
      "SGD Iteration 39\n",
      "SGD Iteration 40\n",
      "SGD Iteration 41\n",
      "SGD Iteration 42\n",
      "SGD Iteration 43\n",
      "SGD Iteration 44\n",
      "SGD Iteration 45\n",
      "SGD Iteration 46\n",
      "SGD Iteration 47\n",
      "SGD Iteration 48\n",
      "SGD Iteration 49\n",
      "SGD Iteration 50\n",
      "SGD Iteration 51\n",
      "SGD Iteration 52\n",
      "SGD Iteration 53\n",
      "SGD Iteration 54\n",
      "SGD Iteration 55\n",
      "SGD Iteration 56\n",
      "SGD Iteration 57\n",
      "SGD Iteration 58\n",
      "SGD Iteration 59\n",
      "SGD Iteration 60\n",
      "SGD Iteration 61\n",
      "SGD Iteration 62\n",
      "SGD Iteration 63\n",
      "SGD Iteration 64\n",
      "SGD Iteration 65\n",
      "SGD Iteration 66\n",
      "SGD Iteration 67\n",
      "SGD Iteration 68\n",
      "SGD Iteration 69\n",
      "SGD Iteration 70\n",
      "SGD Iteration 71\n",
      "SGD Iteration 72\n",
      "SGD Iteration 73\n",
      "SGD Iteration 74\n",
      "SGD Iteration 75\n",
      "SGD Iteration 76\n",
      "SGD Iteration 77\n",
      "SGD Iteration 78\n",
      "SGD Iteration 79\n",
      "SGD Iteration 80\n",
      "SGD Iteration 81\n",
      "SGD Iteration 82\n",
      "SGD Iteration 83\n",
      "SGD Iteration 84\n",
      "SGD Iteration 85\n",
      "SGD Iteration 86\n",
      "SGD Iteration 87\n",
      "SGD Iteration 88\n",
      "SGD Iteration 89\n",
      "SGD Iteration 90\n",
      "SGD Iteration 91\n",
      "SGD Iteration 92\n",
      "SGD Iteration 93\n",
      "SGD Iteration 94\n",
      "SGD Iteration 95\n",
      "SGD Iteration 96\n",
      "SGD Iteration 97\n",
      "SGD Iteration 98\n",
      "SGD Iteration 99\n"
     ]
    }
   ],
   "source": [
    "factor_k = 20 # number of latent features\n",
    "alpha = 0.01 # Learning rate\n",
    "lmbda = 0.1 # Regularisation weight\n",
    "iteration = 100 # number of iteration\n",
    "# use stochastic gradient descent to optimize the prediction\n",
    "train_errors_sgd, test_errors_sgd = sgd(train_matrix, test_matrix, train_ind, test_ind, factor_k, alpha, lmbda, iteration)"
   ]
  },
  {
   "cell_type": "code",
   "execution_count": 23,
   "metadata": {},
   "outputs": [
    {
     "name": "stdout",
     "output_type": "stream",
     "text": [
      "[0.9825567945335318, 0.9822557889978765, 0.9819636743440636, 0.9816800977797835, 0.9814047214517256, 0.9811372217459278, 0.9808772886390182, 0.9806246250944941, 0.9803789464988262, 0.9801399801328196]\n"
     ]
    }
   ],
   "source": [
    "print(test_errors_sgd[90:100])"
   ]
  },
  {
   "cell_type": "code",
   "execution_count": 24,
   "metadata": {
    "scrolled": true
   },
   "outputs": [
    {
     "data": {
      "image/png": "[encoded data removed]",
      "text/plain": [
       "<matplotlib.figure.Figure at 0x17f45fd1978>"
      ]
     },
     "metadata": {},
     "output_type": "display_data"
    }
   ],
   "source": [
    "import matplotlib.pyplot as plt\n",
    "%matplotlib inline\n",
    "\n",
    "# Check performance by plotting train and test errors\n",
    "plt.plot(range(100), train_errors_sgd, linestyle='-', label='MF-nobias (training)')\n",
    "plt.plot(range(100), test_errors_sgd, linestyle='-', label='MF-nobias (testing)')\n",
    "plt.title('SGD-MF Learning Curve')\n",
    "plt.xlabel('Iteration')\n",
    "plt.ylabel('RMSE')\n",
    "plt.legend()\n",
    "plt.grid()\n",
    "plt.show()"
   ]
  },
  {
   "cell_type": "markdown",
   "metadata": {},
   "source": [
    "## Matrix Factoriztion with Bias (SGD)"
   ]
  },
  {
   "cell_type": "code",
   "execution_count": 16,
   "metadata": {},
   "outputs": [],
   "source": [
    "import math #for the function \"math.isnan()\"\n",
    "\n",
    "def sgd_bias(train, test, train_ind, test_ind, factor_k, alpha, lmbda, iteration):\n",
    "    print (\"Computing using SGD ......\")\n",
    "    \n",
    "    train_errors = []\n",
    "    test_errors = []\n",
    "\n",
    "    m, n = train.shape # Number of users and items in training set\n",
    "    \n",
    "    b_global=np.mean(train[train_ind>0])\n",
    "    b_user=[]\n",
    "    b_item=[]\n",
    "    for u in range(len(train)):\n",
    "        try:\n",
    "            train_u=train[u][train_ind[u]>0]\n",
    "            if not math.isnan(np.mean(train_u)): #because nan is not the exception\n",
    "                b_user.append(np.mean(train_u)-b_global)\n",
    "            else:\n",
    "                b_user.append(0)\n",
    "        except:\n",
    "            b_user.append(0)\n",
    "    for i in range(len(train[0])):\n",
    "        try:\n",
    "            train_i=train[:,i][train_ind[:,i]>0]\n",
    "            if not math.isnan(np.mean(train_i)):\n",
    "                b_item.append(np.mean(train_i)-b_global)\n",
    "            else:\n",
    "                b_item.append(0)\n",
    "        except:\n",
    "            b_item.append(0)\n",
    "    \n",
    "    # initialize Latent user feature matrix and Latent movie feature matrix\n",
    "    P = 3 * np.random.rand(m, factor_k)  # Latent user feature matrix\n",
    "    Q = 3 * np.random.rand(n, factor_k)  # Latent movie feature matrix\n",
    "    \n",
    "    # Only consider non-zero elements in the training matrix\n",
    "    users, items = train.nonzero()\n",
    "    for it in range(iteration): #iteration: how many times of updating P, Q\n",
    "        print(\"SGD Iteration\", it)\n",
    "        for u, i in zip(users, items):\n",
    "            e = train[u, i] - (np.dot(P[u], Q[i].T)+b_global+b_user[u]+b_item[i])  # Calculate error for gradient\n",
    "            P[u] += alpha * (e * Q[i] - lmbda * (P[u]+b_global+b_user[u]+b_item[i]))  # Update latent user feature matrix\n",
    "            Q[i] += alpha * (e * P[u] - lmbda * (Q[i]+b_global+b_user[u]+b_item[i]))  # Update latent movie feature matrix\n",
    "            \n",
    "        train_rmse = sgd_bias_rmse(train_ind, train, P, Q, b_global, b_user, b_item)  # Calculate root mean squared error from train dataset\n",
    "        test_rmse = sgd_bias_rmse(test_ind, test, P, Q, b_global, b_user, b_item)  # Calculate root mean squared error from test dataset\n",
    "        print(train_rmse,test_rmse)\n",
    "        train_errors.append(train_rmse)\n",
    "        test_errors.append(test_rmse)\n",
    "    \n",
    "    return train_errors, test_errors"
   ]
  },
  {
   "cell_type": "code",
   "execution_count": 10,
   "metadata": {
    "scrolled": true
   },
   "outputs": [
    {
     "name": "stderr",
     "output_type": "stream",
     "text": [
      "C:\\Users\\User\\Anaconda3\\lib\\site-packages\\numpy\\core\\fromnumeric.py:2957: RuntimeWarning: Mean of empty slice.\n",
      "  out=out, **kwargs)\n",
      "C:\\Users\\User\\Anaconda3\\lib\\site-packages\\numpy\\core\\_methods.py:80: RuntimeWarning: invalid value encountered in double_scalars\n",
      "  ret = ret.dtype.type(ret / rcount)\n"
     ]
    }
   ],
   "source": [
    "b_global=np.mean(train_matrix[train_ind>0])\n",
    "b_u=[]\n",
    "b_i=[]\n",
    "for u in range(len(train_matrix)):\n",
    "    try:\n",
    "        train_u=train_matrix[u][train_ind[u]>0]\n",
    "        if not math.isnan(np.mean(train_u)): #because nan is not the exception\n",
    "            b_u.append(np.mean(train_u)-b_global)\n",
    "        else:\n",
    "            b_u.append(0)\n",
    "    except:\n",
    "        b_u.append(0)\n",
    "for i in range(len(train_matrix[0])):\n",
    "    try:\n",
    "        train_i=train_matrix[:,i][train_ind[:,i]>0]\n",
    "        if not math.isnan(np.mean(train_i)):\n",
    "            b_i.append(np.mean(train_i)-b_global)\n",
    "        else:\n",
    "            b_i.append(0)\n",
    "    except:\n",
    "         b_i.append(0)"
   ]
  },
  {
   "cell_type": "code",
   "execution_count": 11,
   "metadata": {},
   "outputs": [],
   "source": [
    "m, n = train_matrix.shape\n",
    "p = 3 * np.random.rand(m, 2)  # Latent user feature matrix\n",
    "q = 3 * np.random.rand(n, 2)"
   ]
  },
  {
   "cell_type": "code",
   "execution_count": 13,
   "metadata": {},
   "outputs": [],
   "source": [
    "e = train_matrix[7, 0] - (np.dot(p[7], q[0].T)+b_global+b_u[7]+b_i[0])  # Calculate error for gradient\n",
    "p[7] += 0.01 * (e * q[0] - 0.1 * (p[7]+b_global+b_u[7]+b_i[0]))  # Update latent user feature matrix\n",
    "q[0] += 0.01 * (e * p[7] - 0.1 * (q[0]+b_global+b_u[7]+b_i[0]))"
   ]
  },
  {
   "cell_type": "code",
   "execution_count": 15,
   "metadata": {},
   "outputs": [
    {
     "data": {
      "text/plain": [
       "5.38677465453103"
      ]
     },
     "execution_count": 15,
     "metadata": {},
     "output_type": "execute_result"
    }
   ],
   "source": [
    "sgd_bias_rmse(test_ind, test_matrix, p, q, b_global, b_u, b_i)"
   ]
  },
  {
   "cell_type": "markdown",
   "metadata": {},
   "source": [
    "## Rating Prediction using Stochatic Gradient Descent with Bias"
   ]
  },
  {
   "cell_type": "code",
   "execution_count": 17,
   "metadata": {
    "scrolled": true
   },
   "outputs": [
    {
     "name": "stdout",
     "output_type": "stream",
     "text": [
      "Computing using SGD ......\n"
     ]
    },
    {
     "name": "stderr",
     "output_type": "stream",
     "text": [
      "C:\\Users\\User\\Anaconda3\\lib\\site-packages\\numpy\\core\\fromnumeric.py:2957: RuntimeWarning: Mean of empty slice.\n",
      "  out=out, **kwargs)\n",
      "C:\\Users\\User\\Anaconda3\\lib\\site-packages\\numpy\\core\\_methods.py:80: RuntimeWarning: invalid value encountered in double_scalars\n",
      "  ret = ret.dtype.type(ret / rcount)\n"
     ]
    },
    {
     "name": "stdout",
     "output_type": "stream",
     "text": [
      "SGD Iteration 0\n",
      "1.9112766105071248 2.2101604792935183\n",
      "SGD Iteration 1\n",
      "1.2052479111386982 1.6044683101433987\n",
      "SGD Iteration 2\n",
      "1.1292304001983495 1.4368843603358077\n",
      "SGD Iteration 3\n",
      "1.1400632998563316 1.3986090598262613\n",
      "SGD Iteration 4\n",
      "1.186194341393756 1.416353282250457\n",
      "SGD Iteration 5\n",
      "1.2573523064790213 1.464150505643515\n",
      "SGD Iteration 6\n"
     ]
    },
    {
     "name": "stderr",
     "output_type": "stream",
     "text": [
      "C:\\Users\\User\\Anaconda3\\lib\\site-packages\\ipykernel_launcher.py:44: RuntimeWarning: overflow encountered in multiply\n",
      "C:\\Users\\User\\Anaconda3\\lib\\site-packages\\ipykernel_launcher.py:43: RuntimeWarning: overflow encountered in multiply\n",
      "C:\\Users\\User\\Anaconda3\\lib\\site-packages\\ipykernel_launcher.py:7: RuntimeWarning: invalid value encountered in multiply\n",
      "  import sys\n",
      "C:\\Users\\User\\Anaconda3\\lib\\site-packages\\ipykernel_launcher.py:7: RuntimeWarning: overflow encountered in square\n",
      "  import sys\n"
     ]
    },
    {
     "name": "stdout",
     "output_type": "stream",
     "text": [
      "nan nan\n",
      "SGD Iteration 7\n"
     ]
    },
    {
     "name": "stderr",
     "output_type": "stream",
     "text": [
      "C:\\Users\\User\\Anaconda3\\lib\\site-packages\\ipykernel_launcher.py:43: RuntimeWarning: invalid value encountered in add\n",
      "C:\\Users\\User\\Anaconda3\\lib\\site-packages\\ipykernel_launcher.py:44: RuntimeWarning: invalid value encountered in subtract\n"
     ]
    },
    {
     "name": "stdout",
     "output_type": "stream",
     "text": [
      "nan nan\n",
      "SGD Iteration 8\n",
      "nan nan\n",
      "SGD Iteration 9\n",
      "nan nan\n",
      "SGD Iteration 10\n",
      "nan nan\n",
      "SGD Iteration 11\n",
      "nan nan\n",
      "SGD Iteration 12\n",
      "nan nan\n",
      "SGD Iteration 13\n",
      "nan nan\n",
      "SGD Iteration 14\n",
      "nan nan\n",
      "SGD Iteration 15\n"
     ]
    },
    {
     "ename": "KeyboardInterrupt",
     "evalue": "",
     "output_type": "error",
     "traceback": [
      "\u001b[1;31m---------------------------------------------------------------------------\u001b[0m",
      "\u001b[1;31mKeyboardInterrupt\u001b[0m                         Traceback (most recent call last)",
      "\u001b[1;32m<ipython-input-17-d68b46254f88>\u001b[0m in \u001b[0;36m<module>\u001b[1;34m()\u001b[0m\n\u001b[0;32m      4\u001b[0m \u001b[0miteration\u001b[0m \u001b[1;33m=\u001b[0m \u001b[1;36m100\u001b[0m \u001b[1;31m# number of iteration\u001b[0m\u001b[1;33m\u001b[0m\u001b[0m\n\u001b[0;32m      5\u001b[0m \u001b[1;31m# use stochastic gradient descent to optimize the prediction\u001b[0m\u001b[1;33m\u001b[0m\u001b[1;33m\u001b[0m\u001b[0m\n\u001b[1;32m----> 6\u001b[1;33m \u001b[0mtrain_errors_sgd_bias\u001b[0m\u001b[1;33m,\u001b[0m \u001b[0mtest_errors_sgd_bias\u001b[0m \u001b[1;33m=\u001b[0m \u001b[0msgd_bias\u001b[0m\u001b[1;33m(\u001b[0m\u001b[0mtrain_matrix\u001b[0m\u001b[1;33m,\u001b[0m \u001b[0mtest_matrix\u001b[0m\u001b[1;33m,\u001b[0m \u001b[0mtrain_ind\u001b[0m\u001b[1;33m,\u001b[0m \u001b[0mtest_ind\u001b[0m\u001b[1;33m,\u001b[0m \u001b[0mfactor_k\u001b[0m\u001b[1;33m,\u001b[0m \u001b[0malpha\u001b[0m\u001b[1;33m,\u001b[0m \u001b[0mlmbda\u001b[0m\u001b[1;33m,\u001b[0m \u001b[0miteration\u001b[0m\u001b[1;33m)\u001b[0m\u001b[1;33m\u001b[0m\u001b[0m\n\u001b[0m",
      "\u001b[1;32m<ipython-input-16-b116190dfc46>\u001b[0m in \u001b[0;36msgd_bias\u001b[1;34m(train, test, train_ind, test_ind, factor_k, alpha, lmbda, iteration)\u001b[0m\n\u001b[0;32m     40\u001b[0m         \u001b[0mprint\u001b[0m\u001b[1;33m(\u001b[0m\u001b[1;34m\"SGD Iteration\"\u001b[0m\u001b[1;33m,\u001b[0m \u001b[0mit\u001b[0m\u001b[1;33m)\u001b[0m\u001b[1;33m\u001b[0m\u001b[0m\n\u001b[0;32m     41\u001b[0m         \u001b[1;32mfor\u001b[0m \u001b[0mu\u001b[0m\u001b[1;33m,\u001b[0m \u001b[0mi\u001b[0m \u001b[1;32min\u001b[0m \u001b[0mzip\u001b[0m\u001b[1;33m(\u001b[0m\u001b[0musers\u001b[0m\u001b[1;33m,\u001b[0m \u001b[0mitems\u001b[0m\u001b[1;33m)\u001b[0m\u001b[1;33m:\u001b[0m\u001b[1;33m\u001b[0m\u001b[0m\n\u001b[1;32m---> 42\u001b[1;33m             \u001b[0me\u001b[0m \u001b[1;33m=\u001b[0m \u001b[0mtrain\u001b[0m\u001b[1;33m[\u001b[0m\u001b[0mu\u001b[0m\u001b[1;33m,\u001b[0m \u001b[0mi\u001b[0m\u001b[1;33m]\u001b[0m \u001b[1;33m-\u001b[0m \u001b[1;33m(\u001b[0m\u001b[0mnp\u001b[0m\u001b[1;33m.\u001b[0m\u001b[0mdot\u001b[0m\u001b[1;33m(\u001b[0m\u001b[0mP\u001b[0m\u001b[1;33m[\u001b[0m\u001b[0mu\u001b[0m\u001b[1;33m]\u001b[0m\u001b[1;33m,\u001b[0m \u001b[0mQ\u001b[0m\u001b[1;33m[\u001b[0m\u001b[0mi\u001b[0m\u001b[1;33m]\u001b[0m\u001b[1;33m.\u001b[0m\u001b[0mT\u001b[0m\u001b[1;33m)\u001b[0m\u001b[1;33m+\u001b[0m\u001b[0mb_global\u001b[0m\u001b[1;33m+\u001b[0m\u001b[0mb_user\u001b[0m\u001b[1;33m[\u001b[0m\u001b[0mu\u001b[0m\u001b[1;33m]\u001b[0m\u001b[1;33m+\u001b[0m\u001b[0mb_item\u001b[0m\u001b[1;33m[\u001b[0m\u001b[0mi\u001b[0m\u001b[1;33m]\u001b[0m\u001b[1;33m)\u001b[0m  \u001b[1;31m# Calculate error for gradient\u001b[0m\u001b[1;33m\u001b[0m\u001b[0m\n\u001b[0m\u001b[0;32m     43\u001b[0m             \u001b[0mP\u001b[0m\u001b[1;33m[\u001b[0m\u001b[0mu\u001b[0m\u001b[1;33m]\u001b[0m \u001b[1;33m+=\u001b[0m \u001b[0malpha\u001b[0m \u001b[1;33m*\u001b[0m \u001b[1;33m(\u001b[0m\u001b[0me\u001b[0m \u001b[1;33m*\u001b[0m \u001b[0mQ\u001b[0m\u001b[1;33m[\u001b[0m\u001b[0mi\u001b[0m\u001b[1;33m]\u001b[0m \u001b[1;33m-\u001b[0m \u001b[0mlmbda\u001b[0m \u001b[1;33m*\u001b[0m \u001b[1;33m(\u001b[0m\u001b[0mP\u001b[0m\u001b[1;33m[\u001b[0m\u001b[0mu\u001b[0m\u001b[1;33m]\u001b[0m\u001b[1;33m+\u001b[0m\u001b[0mb_global\u001b[0m\u001b[1;33m+\u001b[0m\u001b[0mb_user\u001b[0m\u001b[1;33m[\u001b[0m\u001b[0mu\u001b[0m\u001b[1;33m]\u001b[0m\u001b[1;33m+\u001b[0m\u001b[0mb_item\u001b[0m\u001b[1;33m[\u001b[0m\u001b[0mi\u001b[0m\u001b[1;33m]\u001b[0m\u001b[1;33m)\u001b[0m\u001b[1;33m)\u001b[0m  \u001b[1;31m# Update latent user feature matrix\u001b[0m\u001b[1;33m\u001b[0m\u001b[0m\n\u001b[0;32m     44\u001b[0m             \u001b[0mQ\u001b[0m\u001b[1;33m[\u001b[0m\u001b[0mi\u001b[0m\u001b[1;33m]\u001b[0m \u001b[1;33m+=\u001b[0m \u001b[0malpha\u001b[0m \u001b[1;33m*\u001b[0m \u001b[1;33m(\u001b[0m\u001b[0me\u001b[0m \u001b[1;33m*\u001b[0m \u001b[0mP\u001b[0m\u001b[1;33m[\u001b[0m\u001b[0mu\u001b[0m\u001b[1;33m]\u001b[0m \u001b[1;33m-\u001b[0m \u001b[0mlmbda\u001b[0m \u001b[1;33m*\u001b[0m \u001b[1;33m(\u001b[0m\u001b[0mQ\u001b[0m\u001b[1;33m[\u001b[0m\u001b[0mi\u001b[0m\u001b[1;33m]\u001b[0m\u001b[1;33m+\u001b[0m\u001b[0mb_global\u001b[0m\u001b[1;33m+\u001b[0m\u001b[0mb_user\u001b[0m\u001b[1;33m[\u001b[0m\u001b[0mu\u001b[0m\u001b[1;33m]\u001b[0m\u001b[1;33m+\u001b[0m\u001b[0mb_item\u001b[0m\u001b[1;33m[\u001b[0m\u001b[0mi\u001b[0m\u001b[1;33m]\u001b[0m\u001b[1;33m)\u001b[0m\u001b[1;33m)\u001b[0m  \u001b[1;31m# Update latent movie feature matrix\u001b[0m\u001b[1;33m\u001b[0m\u001b[0m\n",
      "\u001b[1;31mKeyboardInterrupt\u001b[0m: "
     ]
    }
   ],
   "source": [
    "factor_k = 20 # number of latent features\n",
    "alpha = 0.01 # Learning rate\n",
    "lmbda = 0.1 # Regularization weight\n",
    "iteration = 100 # number of iteration\n",
    "# use stochastic gradient descent to optimize the prediction\n",
    "train_errors_sgd_bias, test_errors_sgd_bias = sgd_bias(train_matrix, test_matrix, train_ind, test_ind, factor_k, alpha, lmbda, iteration)"
   ]
  },
  {
   "cell_type": "code",
   "execution_count": 13,
   "metadata": {},
   "outputs": [
    {
     "name": "stdout",
     "output_type": "stream",
     "text": [
      "[0.9512608689359231, 0.9509369434672303, 0.9506223965641234, 0.9503168692272442, 0.9500200180913723, 0.9497315147112059, 0.9494510448798218, 0.949178307978138, 0.94891301635387, 0.9486548947286101]\n"
     ]
    }
   ],
   "source": [
    "print(test_errors_sgd_bias[90:100])"
   ]
  },
  {
   "cell_type": "code",
   "execution_count": 14,
   "metadata": {
    "scrolled": true
   },
   "outputs": [
    {
     "data": {
      "image/png": "[encoded data removed]",
      "text/plain": [
       "<Figure size 432x288 with 1 Axes>"
      ]
     },
     "metadata": {},
     "output_type": "display_data"
    }
   ],
   "source": [
    "import matplotlib.pyplot as plt\n",
    "%matplotlib inline\n",
    "\n",
    "plt.plot(range(100), train_errors_sgd, linestyle='-',  label='MF-nobias (training)')\n",
    "plt.plot(range(100), test_errors_sgd, linestyle='-', label='MF-nobias (testing)')\n",
    "plt.plot(range(100), train_errors_sgd_bias, linestyle='-',  label='MF-bias (training)')\n",
    "plt.plot(range(100), test_errors_sgd_bias, linestyle='-', label='MF-bias (testing)')\n",
    "plt.title('SGD-MF with bias Learning Curve')\n",
    "plt.xlabel('Iteration')\n",
    "plt.ylabel('RMSE')\n",
    "plt.legend()\n",
    "plt.grid()\n",
    "plt.show()"
   ]
  },
  {
   "cell_type": "markdown",
   "metadata": {},
   "source": [
    "predicting-computation with bias reach the lowest RMSE (most accuracy performance) faster than that with bo bias\n",
    "\n",
    "large data (training set) get lower RMSE (better prediction performance) than small data (testing set)"
   ]
  },
  {
   "cell_type": "code",
   "execution_count": null,
   "metadata": {},
   "outputs": [],
   "source": [
    "k_value=range(5,101,5) # number of latent features\n",
    "alpha = 0.01 # Learning rate\n",
    "lmbda = 0.1 # Regularisation weight\n",
    "iteration = 100 # number of iteration\n",
    "# use stochastic gradient descent to optimize the prediction\n",
    "for k in k_value:\n",
    "    k_train_errors_sgd, k_test_errors_sgd = sgd(train_matrix, test_matrix, train_ind, test_ind, k, alpha, lmbda, iteration)"
   ]
  },
  {
   "cell_type": "code",
   "execution_count": null,
   "metadata": {},
   "outputs": [],
   "source": [
    "alpha = 0.01 # Learning rate\n",
    "lmbda = 0.1 # Regularization weight\n",
    "iteration = 100 # number of iteration\n",
    "# use stochastic gradient descent to optimize the prediction\n",
    "for k in k_value:\n",
    "    k_train_errors_sgd_bias, k_test_errors_sgd_bias = sgd_bias(train_matrix, test_matrix, train_ind, test_ind,k, alpha, lmbda, iteration)"
   ]
  },
  {
   "cell_type": "code",
   "execution_count": null,
   "metadata": {},
   "outputs": [],
   "source": [
    "plt.plot(k_value, k_train_errors_sgd[-1], linestyle='-',  label='MF-nobias (training)')\n",
    "plt.plot(k_value, k_test_errors_sgd[-1], linestyle='-', label='MF-nobias (testing)')\n",
    "plt.plot(k_value, k_train_errors_sgd_bias[-1], linestyle='-',  label='MF-bias (training)')\n",
    "plt.plot(k_value, k_test_errors_sgd_bias[-1], linestyle='-', label='MF-bias (testing)')\n",
    "plt.title('SGD-MF with bias Learning Curve')\n",
    "plt.xlabel('Number of Latent Factors k')\n",
    "plt.ylabel('RMSE')\n",
    "plt.legend()\n",
    "plt.grid()\n",
    "plt.show()"
   ]
  }
 ],
 "metadata": {
  "anaconda-cloud": {},
  "kernelspec": {
   "display_name": "Python 3",
   "language": "python",
   "name": "python3"
  },
  "language_info": {
   "codemirror_mode": {
    "name": "ipython",
    "version": 3
   },
   "file_extension": ".py",
   "mimetype": "text/x-python",
   "name": "python",
   "nbconvert_exporter": "python",
   "pygments_lexer": "ipython3",
   "version": "3.6.4"
  }
 },
 "nbformat": 4,
 "nbformat_minor": 1
}
