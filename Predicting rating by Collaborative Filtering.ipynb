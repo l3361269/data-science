{
 "cells": [
  {
   "cell_type": "code",
   "execution_count": 1,
   "metadata": {},
   "outputs": [],
   "source": [
    "import pandas as pd\n",
    "import numpy as np\n",
    "import math"
   ]
  },
  {
   "cell_type": "markdown",
   "metadata": {},
   "source": [
    "## Load the data"
   ]
  },
  {
   "cell_type": "code",
   "execution_count": 2,
   "metadata": {},
   "outputs": [
    {
     "data": {
      "text/html": [
       "<div>\n",
       "<style scoped>\n",
       "    .dataframe tbody tr th:only-of-type {\n",
       "        vertical-align: middle;\n",
       "    }\n",
       "\n",
       "    .dataframe tbody tr th {\n",
       "        vertical-align: top;\n",
       "    }\n",
       "\n",
       "    .dataframe thead th {\n",
       "        text-align: right;\n",
       "    }\n",
       "</style>\n",
       "<table border=\"1\" class=\"dataframe\">\n",
       "  <thead>\n",
       "    <tr style=\"text-align: right;\">\n",
       "      <th></th>\n",
       "      <th>user_id</th>\n",
       "      <th>item_id</th>\n",
       "      <th>rating</th>\n",
       "      <th>timestamp</th>\n",
       "    </tr>\n",
       "  </thead>\n",
       "  <tbody>\n",
       "    <tr>\n",
       "      <th>0</th>\n",
       "      <td>196</td>\n",
       "      <td>242</td>\n",
       "      <td>3</td>\n",
       "      <td>881250949</td>\n",
       "    </tr>\n",
       "    <tr>\n",
       "      <th>1</th>\n",
       "      <td>186</td>\n",
       "      <td>302</td>\n",
       "      <td>3</td>\n",
       "      <td>891717742</td>\n",
       "    </tr>\n",
       "    <tr>\n",
       "      <th>2</th>\n",
       "      <td>22</td>\n",
       "      <td>377</td>\n",
       "      <td>1</td>\n",
       "      <td>878887116</td>\n",
       "    </tr>\n",
       "    <tr>\n",
       "      <th>3</th>\n",
       "      <td>244</td>\n",
       "      <td>51</td>\n",
       "      <td>2</td>\n",
       "      <td>880606923</td>\n",
       "    </tr>\n",
       "    <tr>\n",
       "      <th>4</th>\n",
       "      <td>166</td>\n",
       "      <td>346</td>\n",
       "      <td>1</td>\n",
       "      <td>886397596</td>\n",
       "    </tr>\n",
       "  </tbody>\n",
       "</table>\n",
       "</div>"
      ],
      "text/plain": [
       "   user_id  item_id  rating  timestamp\n",
       "0      196      242       3  881250949\n",
       "1      186      302       3  891717742\n",
       "2       22      377       1  878887116\n",
       "3      244       51       2  880606923\n",
       "4      166      346       1  886397596"
      ]
     },
     "execution_count": 2,
     "metadata": {},
     "output_type": "execute_result"
    }
   ],
   "source": [
    "col_name=['user_id','item_id', 'rating', 'timestamp']\n",
    "df=pd.read_csv('ratings.data',sep='\\t',names=col_name)\n",
    "df.head()"
   ]
  },
  {
   "cell_type": "code",
   "execution_count": 3,
   "metadata": {},
   "outputs": [],
   "source": [
    "n_user=df.user_id.unique().shape[0]\n",
    "n_item=df.item_id.unique().shape[0]"
   ]
  },
  {
   "cell_type": "markdown",
   "metadata": {},
   "source": [
    "## Create the rating matrix (rows: user, colns: item)"
   ]
  },
  {
   "cell_type": "code",
   "execution_count": 4,
   "metadata": {},
   "outputs": [],
   "source": [
    "user_item_matrix=np.zeros((n_user,n_item)) #rating from 1 to 5, and 0 means no rating\n",
    "for i in df.itertuples():\n",
    "    user_item_matrix[i[1]-1,i[2]-1]=i[3] #type is matrix, index starts from 0"
   ]
  },
  {
   "cell_type": "code",
   "execution_count": 5,
   "metadata": {},
   "outputs": [
    {
     "name": "stderr",
     "output_type": "stream",
     "text": [
      "C:\\Users\\User\\Anaconda3\\lib\\site-packages\\sklearn\\cross_validation.py:41: DeprecationWarning: This module was deprecated in version 0.18 in favor of the model_selection module into which all the refactored classes and functions are moved. Also note that the interface of the new CV iterators are different from that of this module. This module will be removed in 0.20.\n",
      "  \"This module will be removed in 0.20.\", DeprecationWarning)\n"
     ]
    }
   ],
   "source": [
    "import sklearn.cross_validation as cv\n",
    "train_df,test_df=cv.train_test_split(df,test_size=0.25)"
   ]
  },
  {
   "cell_type": "markdown",
   "metadata": {},
   "source": [
    "## Create similarity matrix"
   ]
  },
  {
   "cell_type": "markdown",
   "metadata": {},
   "source": [
    "### by pearson correlation coefficient (相關係數)"
   ]
  },
  {
   "cell_type": "markdown",
   "metadata": {},
   "source": [
    "user-user pair"
   ]
  },
  {
   "cell_type": "code",
   "execution_count": 6,
   "metadata": {},
   "outputs": [],
   "source": [
    "import scipy.stats #inclusing module of pearson correlation\n",
    "\n",
    "sim_mat_pcc_user=np.zeros((n_user,n_user))\n",
    "\n",
    "for user_r in range(n_user):\n",
    "    for user_c in range(n_user):\n",
    "        if user_r<=user_c:\n",
    "            break\n",
    "        elif np.count_nonzero(user_item_matrix[user_r]) and np.count_nonzero(user_item_matrix[user_c]): \n",
    "            #get the smaller value and only 0 means false\n",
    "            #the condition of computing similarity is both users must do rating\n",
    "            try: #with large data, we can't assure whether there is a nan in data, which cause the exception\n",
    "                if not math.isnan(scipy.stats.pearsonr(user_item_matrix[user_r],user_item_matrix[user_c])[0]):\n",
    "                    sim_mat_pcc_user[user_r,user_c]=scipy.stats.pearsonr(user_item_matrix[user_r],user_item_matrix[user_c])[0]\n",
    "                else:\n",
    "                    sim_mat_pcc_user[user_r,user_c]=0\n",
    "            except:\n",
    "                sim_mat_pcc_user[user_r,user_c]=0\n",
    "\n",
    "#because we only calculate the lower right triangle, and the similarity matrix is symmetric\n",
    "#let's complete the sim_mat_pcc_user\n",
    "sim_mat_pcc_user=sim_mat_pcc_user+sim_mat_pcc_user.T"
   ]
  },
  {
   "cell_type": "markdown",
   "metadata": {},
   "source": [
    "item-item pair"
   ]
  },
  {
   "cell_type": "code",
   "execution_count": 7,
   "metadata": {},
   "outputs": [],
   "source": [
    "sim_mat_pcc_item=np.zeros((n_item,n_item))\n",
    "\n",
    "for item_r in range(n_item):\n",
    "    for item_c in range(n_item):\n",
    "        if item_r<=item_c:\n",
    "            break\n",
    "        elif np.count_nonzero(user_item_matrix[:,item_r]) and np.count_nonzero(user_item_matrix[:,item_c]):\n",
    "            try:\n",
    "                if not math.isnan(scipy.stats.pearsonr(user_item_matrix[:,item_r],user_item_matrix[:,item_c])[0]):\n",
    "                    sim_mat_pcc_item[item_r,item_c]=scipy.stats.pearsonr(user_item_matrix[:,item_r],user_item_matrix[:,item_c])[0]\n",
    "                else:\n",
    "                    sim_mat_pcc_item[item_r,item_c]=0\n",
    "            except:\n",
    "                sim_mat_pcc_item[item_r,item_c]=0\n",
    "\n",
    "\n",
    "sim_mat_pcc_item=sim_mat_pcc_item+sim_mat_pcc_item.T"
   ]
  },
  {
   "cell_type": "markdown",
   "metadata": {},
   "source": [
    "### by cosine similarity measure"
   ]
  },
  {
   "cell_type": "markdown",
   "metadata": {},
   "source": [
    "user-user pair"
   ]
  },
  {
   "cell_type": "code",
   "execution_count": 8,
   "metadata": {},
   "outputs": [],
   "source": [
    "def cos_sim(a,b):\n",
    "    upper=np.dot(a,b)\n",
    "    lower=math.sqrt(sum(np.power(a,2))*sum(np.power(b,2)))\n",
    "    return upper/lower"
   ]
  },
  {
   "cell_type": "code",
   "execution_count": 9,
   "metadata": {},
   "outputs": [],
   "source": [
    "sim_mat_cos_user=np.zeros((n_user,n_user))\n",
    "\n",
    "for user_r in range(n_user):\n",
    "    for user_c in range(n_user):\n",
    "        if user_r<=user_c:\n",
    "            break\n",
    "        elif np.count_nonzero(user_item_matrix[user_r]) and np.count_nonzero(user_item_matrix[user_c]): \n",
    "            #get the smaller value and only 0 means false\n",
    "            #the condition of computing similarity is both users must do rating\n",
    "            try: #with large data, we can't assure whether there is a nan in data, which cause the exception\n",
    "                if not math.isnan(cos_sim(user_item_matrix[user_r],user_item_matrix[user_c])):\n",
    "                    sim_mat_cos_user[user_r,user_c]=cos_sim(user_item_matrix[user_r],user_item_matrix[user_c])\n",
    "                else:\n",
    "                    sim_mat_cos_user[user_r,user_c]=0\n",
    "            except:\n",
    "                sim_mat_cos_user[user_r,user_c]=0\n",
    "                \n",
    "#because we only calculate the upper right triangle, and the similarity matrix is symmetric\n",
    "#let's complete the sim_mat_pcc_user\n",
    "sim_mat_cos_user=sim_mat_cos_user+sim_mat_cos_user.T"
   ]
  },
  {
   "cell_type": "markdown",
   "metadata": {},
   "source": [
    "item-item pair"
   ]
  },
  {
   "cell_type": "code",
   "execution_count": 10,
   "metadata": {
    "scrolled": true
   },
   "outputs": [],
   "source": [
    "sim_mat_cos_item=np.zeros((n_item,n_item))\n",
    "\n",
    "for item_r in range(n_item):\n",
    "    for item_c in range(n_item):\n",
    "        if item_r<=item_c:\n",
    "            break\n",
    "        elif np.count_nonzero(user_item_matrix[:,item_r]) and np.count_nonzero(user_item_matrix[:,item_c]):\n",
    "            try:\n",
    "                if not math.isnan(cos_sim(user_item_matrix[:,item_r],user_item_matrix[:,item_c])):\n",
    "                    sim_mat_cos_item[item_r,item_c]=cos_sim(user_item_matrix[:,item_r],user_item_matrix[:,item_c])\n",
    "                else:\n",
    "                    sim_mat_cos_item[item_r,item_c]=0\n",
    "            except:\n",
    "                sim_mat_cos_item[item_r,item_c]=0\n",
    "\n",
    "\n",
    "sim_mat_cos_item=sim_mat_cos_item+sim_mat_cos_item.T"
   ]
  },
  {
   "cell_type": "markdown",
   "metadata": {},
   "source": [
    "## Rating predict function "
   ]
  },
  {
   "cell_type": "markdown",
   "metadata": {},
   "source": [
    "### based on the user-user similarity"
   ]
  },
  {
   "cell_type": "code",
   "execution_count": 11,
   "metadata": {},
   "outputs": [],
   "source": [
    "import sklearn.metrics #inclusding the module of Rooted Mean Square Error(rmse)\n",
    "\n",
    "def userbased_pred_rmse(train_df, n_user,n_item, test_df, sim_mat_user, k):\n",
    "    \"\"\"\n",
    "    from user-user similarity and rating in train_df to predict the rating of particular user-item\n",
    "    compare the predicted rating and true rating in test_df and evaluate the predicting performance by rmse\n",
    "    \n",
    "    note: we cannot assure wheter both users have similarity (sim=0 or not) and whether the other user do rating to the item (r=0)\n",
    "          so there is no definte k-value \n",
    "    \n",
    "    \"\"\"\n",
    "    pred_r=[]\n",
    "    true_r=[]\n",
    "    \n",
    "    #from user-user similarity and \"rating in train_df\" to predict the rating\n",
    "    train=np.zeros((n_user,n_item))\n",
    "    for i in range(len(train_df)):\n",
    "        line=train_df.iloc[i]\n",
    "        train[line[0]-1,line[1]-1]=line[2]\n",
    "    \n",
    "    #to predict the rating of particular user-item rating in test_df\n",
    "    for i in test_df.itertuples():\n",
    "        user=i[1]-1\n",
    "        item=i[2]-1\n",
    "        if i[3]>0:\n",
    "            true_r.append(i[3])\n",
    "            \n",
    "            sim_user=sim_mat_user[user]\n",
    "            sort_ind_sim_user=np.argsort(-sim_user) #get index of the descending order of user-user similarity\n",
    "            \n",
    "            upper=0\n",
    "            lower=0\n",
    "            for j in range(k):\n",
    "                user_ind=sort_ind_sim_user[j]\n",
    "                upper+=sim_mat_user[user,user_ind]*train[user_ind,item]\n",
    "                lower+=sim_mat_user[user,user_ind]\n",
    "                    \n",
    "            #default r_ui = average of the user ratings\n",
    "            r_ui=np.mean(train[user][train[user]>0])\n",
    "            if lower>0:\n",
    "                r_ui=upper/lower\n",
    "                \n",
    "            if r_ui>5:\n",
    "                r_ui=5\n",
    "            if r_ui<0:\n",
    "                r_ui=0\n",
    "            pred_r.append(r_ui)\n",
    "        \n",
    "    rmse=math.sqrt(sklearn.metrics.mean_squared_error(true_r, pred_r))\n",
    "    \n",
    "    return rmse, pred_r"
   ]
  },
  {
   "cell_type": "code",
   "execution_count": 12,
   "metadata": {},
   "outputs": [],
   "source": [
    "def itembased_pred_rmse(train_df, n_user,n_item, test_df, sim_mat_item, k):\n",
    "   \n",
    "    pred_r=[]\n",
    "    true_r=[]\n",
    "    \n",
    "    #from user-user similarity and \"rating in train_df\" to predict the rating\n",
    "    train=np.zeros((n_user,n_item))\n",
    "    for i in range(len(train_df)):\n",
    "        line=train_df.iloc[i]\n",
    "        train[line[0]-1,line[1]-1]=line[2]\n",
    "    \n",
    "    #to predict the rating of particular user-item rating in test_df\n",
    "    for i in test_df.itertuples():\n",
    "        user=i[1]-1\n",
    "        item=i[2]-1\n",
    "        if i[3]>0:\n",
    "            true_r.append(i[3])\n",
    "            \n",
    "            sim_item=sim_mat_item[item]\n",
    "            sort_ind_sim_item=np.argsort(-sim_item) #get index of the descending order of user-user similarity\n",
    "            \n",
    "            upper=0\n",
    "            lower=0\n",
    "            for j in range(k):\n",
    "                item_ind=sort_ind_sim_item[j]\n",
    "                upper+=sim_mat_item[item,item_ind]*train[user,item_ind]\n",
    "                lower+=sim_mat_item[item,item_ind]\n",
    "            \n",
    "            #default r_ui = average of the user ratings\n",
    "            r_ui=np.mean(train[user][train[user]>0])\n",
    "            if lower>0:\n",
    "                r_ui=upper/lower\n",
    "            \n",
    "            if r_ui>5:\n",
    "                r_ui=5\n",
    "            if r_ui<0:\n",
    "                r_ui=0\n",
    "            pred_r.append(r_ui)\n",
    "        \n",
    "    rmse=math.sqrt(sklearn.metrics.mean_squared_error(true_r, pred_r))\n",
    "    \n",
    "    return rmse, pred_r"
   ]
  },
  {
   "cell_type": "markdown",
   "metadata": {},
   "source": [
    "## Predict the ratings with different k-neighbors, and compute the RMSE to evaluate the predicting performance"
   ]
  },
  {
   "cell_type": "code",
   "execution_count": 13,
   "metadata": {},
   "outputs": [],
   "source": [
    "k=[3, 4, 5,6,7,8,9,10,20,30,40,50,60,70,80,90,100]\n",
    "\n",
    "rmse_u_pcc=[]\n",
    "rmse_i_pcc=[]\n",
    "rmse_u_cos=[]\n",
    "rmse_i_cos=[]\n",
    "\n",
    "for i in k:\n",
    "    rmse_u_pcc.append(userbased_pred_rmse(train_df, n_user,n_item, test_df, sim_mat_pcc_user, i)[0])\n",
    "    rmse_i_pcc.append(itembased_pred_rmse(train_df, n_user,n_item, test_df, sim_mat_pcc_item, i)[0])\n",
    "    rmse_u_cos.append(userbased_pred_rmse(train_df, n_user,n_item, test_df, sim_mat_cos_user, i)[0])\n",
    "    rmse_i_cos.append(itembased_pred_rmse(train_df, n_user,n_item, test_df, sim_mat_cos_item, i)[0])"
   ]
  },
  {
   "cell_type": "code",
   "execution_count": 32,
   "metadata": {},
   "outputs": [
    {
     "data": {
      "image/png": "[encoded data removed]",
      "text/plain": [
       "<matplotlib.figure.Figure at 0x1cbcbc8ca58>"
      ]
     },
     "metadata": {},
     "output_type": "display_data"
    }
   ],
   "source": [
    "import matplotlib.pyplot as plt\n",
    "%matplotlib inline\n",
    "\n",
    "plt.plot(k,rmse_u_pcc,'-.',c='red',label='U-CF-pcc')\n",
    "plt.plot(k,rmse_i_pcc,'-o',c='yellow',label='I-CF-pcc')\n",
    "plt.plot(k,rmse_u_cos,'-*',c='green',label='U-CF-cos')\n",
    "plt.plot(k,rmse_i_cos,'-+',c='blue',label='I-CF-cos')\n",
    "plt.title('Collaborative Filtering prediction with different k-neighbors')\n",
    "plt.xlabel('k-neighbors')\n",
    "plt.ylabel('rmse')\n",
    "plt.legend(loc='upper left')\n",
    "plt.grid()"
   ]
  },
  {
   "cell_type": "code",
   "execution_count": null,
   "metadata": {},
   "outputs": [],
   "source": []
  }
 ],
 "metadata": {
  "kernelspec": {
   "display_name": "Python 3",
   "language": "python",
   "name": "python3"
  },
  "language_info": {
   "codemirror_mode": {
    "name": "ipython",
    "version": 3
   },
   "file_extension": ".py",
   "mimetype": "text/x-python",
   "name": "python",
   "nbconvert_exporter": "python",
   "pygments_lexer": "ipython3",
   "version": "3.6.4"
  }
 },
 "nbformat": 4,
 "nbformat_minor": 2
}
